{
 "cells": [
  {
   "cell_type": "code",
   "execution_count": 1,
   "metadata": {},
   "outputs": [],
   "source": [
    "import pandas as pd\n",
    "import numpy as np \n",
    "\n",
    "import matplotlib.pyplot as plt\n",
    "import seaborn as sns\n",
    "%matplotlib inline\n",
    "\n",
    "pd.options.display.max_columns = 500\n",
    "pd.set_option('precision', 10)\n",
    "pd.set_option('display.float_format', '{:.3f}'.format)\n",
    "\n",
    "import warnings\n",
    "warnings.filterwarnings('ignore')\n",
    "\n",
    "from sklearn.model_selection import train_test_split\n",
    "from sklearn.metrics import mean_squared_error , r2_score, accuracy_score, f1_score\n",
    "from sklearn.preprocessing import StandardScaler, MinMaxScaler"
   ]
  },
  {
   "cell_type": "code",
   "execution_count": 2,
   "metadata": {},
   "outputs": [],
   "source": [
    "train = pd.read_csv(\"course_project_train.csv\")\n",
    "test = pd.read_csv(\"course_project_test.csv\")\n",
    "df = pd.concat([train,test],ignore_index=True, sort=False)"
   ]
  },
  {
   "cell_type": "markdown",
   "metadata": {
    "heading_collapsed": true
   },
   "source": [
    "# Common data observation"
   ]
  },
  {
   "cell_type": "code",
   "execution_count": 3,
   "metadata": {
    "hidden": true
   },
   "outputs": [
    {
     "name": "stdout",
     "output_type": "stream",
     "text": [
      "Train Shape - (7500, 17)\n",
      "Test Shape - (2500, 16)\n",
      "DF shape - (10000, 17)\n"
     ]
    }
   ],
   "source": [
    "print(f'Train Shape - {train.shape}',f'Test Shape - {test.shape}',f'DF shape - {df.shape}', sep=\"\\n\") "
   ]
  },
  {
   "cell_type": "code",
   "execution_count": 4,
   "metadata": {
    "hidden": true,
    "scrolled": false
   },
   "outputs": [
    {
     "data": {
      "text/html": [
       "<div>\n",
       "<style scoped>\n",
       "    .dataframe tbody tr th:only-of-type {\n",
       "        vertical-align: middle;\n",
       "    }\n",
       "\n",
       "    .dataframe tbody tr th {\n",
       "        vertical-align: top;\n",
       "    }\n",
       "\n",
       "    .dataframe thead th {\n",
       "        text-align: right;\n",
       "    }\n",
       "</style>\n",
       "<table border=\"1\" class=\"dataframe\">\n",
       "  <thead>\n",
       "    <tr style=\"text-align: right;\">\n",
       "      <th></th>\n",
       "      <th>Home Ownership</th>\n",
       "      <th>Annual Income</th>\n",
       "      <th>Years in current job</th>\n",
       "      <th>Tax Liens</th>\n",
       "      <th>Number of Open Accounts</th>\n",
       "      <th>Years of Credit History</th>\n",
       "      <th>Maximum Open Credit</th>\n",
       "      <th>Number of Credit Problems</th>\n",
       "      <th>Months since last delinquent</th>\n",
       "      <th>Bankruptcies</th>\n",
       "      <th>Purpose</th>\n",
       "      <th>Term</th>\n",
       "      <th>Current Loan Amount</th>\n",
       "      <th>Current Credit Balance</th>\n",
       "      <th>Monthly Debt</th>\n",
       "      <th>Credit Score</th>\n",
       "      <th>Credit Default</th>\n",
       "    </tr>\n",
       "  </thead>\n",
       "  <tbody>\n",
       "    <tr>\n",
       "      <th>0</th>\n",
       "      <td>Own Home</td>\n",
       "      <td>482087.000</td>\n",
       "      <td>NaN</td>\n",
       "      <td>0.000</td>\n",
       "      <td>11.000</td>\n",
       "      <td>26.300</td>\n",
       "      <td>685960.000</td>\n",
       "      <td>1.000</td>\n",
       "      <td>nan</td>\n",
       "      <td>1.000</td>\n",
       "      <td>debt consolidation</td>\n",
       "      <td>Short Term</td>\n",
       "      <td>99999999.000</td>\n",
       "      <td>47386.000</td>\n",
       "      <td>7914.000</td>\n",
       "      <td>749.000</td>\n",
       "      <td>0</td>\n",
       "    </tr>\n",
       "    <tr>\n",
       "      <th>1</th>\n",
       "      <td>Own Home</td>\n",
       "      <td>1025487.000</td>\n",
       "      <td>10+ years</td>\n",
       "      <td>0.000</td>\n",
       "      <td>15.000</td>\n",
       "      <td>15.300</td>\n",
       "      <td>1181730.000</td>\n",
       "      <td>0.000</td>\n",
       "      <td>nan</td>\n",
       "      <td>0.000</td>\n",
       "      <td>debt consolidation</td>\n",
       "      <td>Long Term</td>\n",
       "      <td>264968.000</td>\n",
       "      <td>394972.000</td>\n",
       "      <td>18373.000</td>\n",
       "      <td>737.000</td>\n",
       "      <td>1</td>\n",
       "    </tr>\n",
       "    <tr>\n",
       "      <th>2</th>\n",
       "      <td>Home Mortgage</td>\n",
       "      <td>751412.000</td>\n",
       "      <td>8 years</td>\n",
       "      <td>0.000</td>\n",
       "      <td>11.000</td>\n",
       "      <td>35.000</td>\n",
       "      <td>1182434.000</td>\n",
       "      <td>0.000</td>\n",
       "      <td>nan</td>\n",
       "      <td>0.000</td>\n",
       "      <td>debt consolidation</td>\n",
       "      <td>Short Term</td>\n",
       "      <td>99999999.000</td>\n",
       "      <td>308389.000</td>\n",
       "      <td>13651.000</td>\n",
       "      <td>742.000</td>\n",
       "      <td>0</td>\n",
       "    </tr>\n",
       "    <tr>\n",
       "      <th>3</th>\n",
       "      <td>Own Home</td>\n",
       "      <td>805068.000</td>\n",
       "      <td>6 years</td>\n",
       "      <td>0.000</td>\n",
       "      <td>8.000</td>\n",
       "      <td>22.500</td>\n",
       "      <td>147400.000</td>\n",
       "      <td>1.000</td>\n",
       "      <td>nan</td>\n",
       "      <td>1.000</td>\n",
       "      <td>debt consolidation</td>\n",
       "      <td>Short Term</td>\n",
       "      <td>121396.000</td>\n",
       "      <td>95855.000</td>\n",
       "      <td>11338.000</td>\n",
       "      <td>694.000</td>\n",
       "      <td>0</td>\n",
       "    </tr>\n",
       "    <tr>\n",
       "      <th>4</th>\n",
       "      <td>Rent</td>\n",
       "      <td>776264.000</td>\n",
       "      <td>8 years</td>\n",
       "      <td>0.000</td>\n",
       "      <td>13.000</td>\n",
       "      <td>13.600</td>\n",
       "      <td>385836.000</td>\n",
       "      <td>1.000</td>\n",
       "      <td>nan</td>\n",
       "      <td>0.000</td>\n",
       "      <td>debt consolidation</td>\n",
       "      <td>Short Term</td>\n",
       "      <td>125840.000</td>\n",
       "      <td>93309.000</td>\n",
       "      <td>7180.000</td>\n",
       "      <td>719.000</td>\n",
       "      <td>0</td>\n",
       "    </tr>\n",
       "  </tbody>\n",
       "</table>\n",
       "</div>"
      ],
      "text/plain": [
       "  Home Ownership  Annual Income Years in current job  Tax Liens  \\\n",
       "0       Own Home     482087.000                  NaN      0.000   \n",
       "1       Own Home    1025487.000            10+ years      0.000   \n",
       "2  Home Mortgage     751412.000              8 years      0.000   \n",
       "3       Own Home     805068.000              6 years      0.000   \n",
       "4           Rent     776264.000              8 years      0.000   \n",
       "\n",
       "   Number of Open Accounts  Years of Credit History  Maximum Open Credit  \\\n",
       "0                   11.000                   26.300           685960.000   \n",
       "1                   15.000                   15.300          1181730.000   \n",
       "2                   11.000                   35.000          1182434.000   \n",
       "3                    8.000                   22.500           147400.000   \n",
       "4                   13.000                   13.600           385836.000   \n",
       "\n",
       "   Number of Credit Problems  Months since last delinquent  Bankruptcies  \\\n",
       "0                      1.000                           nan         1.000   \n",
       "1                      0.000                           nan         0.000   \n",
       "2                      0.000                           nan         0.000   \n",
       "3                      1.000                           nan         1.000   \n",
       "4                      1.000                           nan         0.000   \n",
       "\n",
       "              Purpose        Term  Current Loan Amount  \\\n",
       "0  debt consolidation  Short Term         99999999.000   \n",
       "1  debt consolidation   Long Term           264968.000   \n",
       "2  debt consolidation  Short Term         99999999.000   \n",
       "3  debt consolidation  Short Term           121396.000   \n",
       "4  debt consolidation  Short Term           125840.000   \n",
       "\n",
       "   Current Credit Balance  Monthly Debt  Credit Score  Credit Default  \n",
       "0               47386.000      7914.000       749.000               0  \n",
       "1              394972.000     18373.000       737.000               1  \n",
       "2              308389.000     13651.000       742.000               0  \n",
       "3               95855.000     11338.000       694.000               0  \n",
       "4               93309.000      7180.000       719.000               0  "
      ]
     },
     "execution_count": 4,
     "metadata": {},
     "output_type": "execute_result"
    }
   ],
   "source": [
    "train.head()"
   ]
  },
  {
   "cell_type": "code",
   "execution_count": 5,
   "metadata": {
    "hidden": true
   },
   "outputs": [
    {
     "name": "stdout",
     "output_type": "stream",
     "text": [
      "<class 'pandas.core.frame.DataFrame'>\n",
      "RangeIndex: 10000 entries, 0 to 9999\n",
      "Data columns (total 17 columns):\n",
      "Home Ownership                  10000 non-null object\n",
      "Annual Income                   7930 non-null float64\n",
      "Years in current job            9543 non-null object\n",
      "Tax Liens                       10000 non-null float64\n",
      "Number of Open Accounts         10000 non-null float64\n",
      "Years of Credit History         10000 non-null float64\n",
      "Maximum Open Credit             10000 non-null float64\n",
      "Number of Credit Problems       10000 non-null float64\n",
      "Months since last delinquent    4561 non-null float64\n",
      "Bankruptcies                    9983 non-null float64\n",
      "Purpose                         10000 non-null object\n",
      "Term                            10000 non-null object\n",
      "Current Loan Amount             10000 non-null float64\n",
      "Current Credit Balance          10000 non-null float64\n",
      "Monthly Debt                    10000 non-null float64\n",
      "Credit Score                    7930 non-null float64\n",
      "Credit Default                  7500 non-null float64\n",
      "dtypes: float64(13), object(4)\n",
      "memory usage: 1.3+ MB\n"
     ]
    }
   ],
   "source": [
    "df.info()"
   ]
  },
  {
   "cell_type": "markdown",
   "metadata": {
    "heading_collapsed": true
   },
   "source": [
    "# Outliers"
   ]
  },
  {
   "cell_type": "code",
   "execution_count": 6,
   "metadata": {
    "hidden": true
   },
   "outputs": [],
   "source": [
    "# tranform to categogy finding\n",
    "def col_info(data):\n",
    "    temp = pd.DataFrame(columns = ['name', 'values', 'nancounts','type'])\n",
    "    for colname in data.columns:\n",
    "        temp = temp.append({'name': colname, \n",
    "                           'values': len(data[colname].value_counts()),\n",
    "                           'nancounts': sum(data[colname].isnull()),\n",
    "                           'type': data[colname].dtype}, ignore_index=True)\n",
    "\n",
    "    return temp\n",
    "                            \n"
   ]
  },
  {
   "cell_type": "code",
   "execution_count": 7,
   "metadata": {
    "hidden": true
   },
   "outputs": [
    {
     "data": {
      "text/html": [
       "<div>\n",
       "<style scoped>\n",
       "    .dataframe tbody tr th:only-of-type {\n",
       "        vertical-align: middle;\n",
       "    }\n",
       "\n",
       "    .dataframe tbody tr th {\n",
       "        vertical-align: top;\n",
       "    }\n",
       "\n",
       "    .dataframe thead th {\n",
       "        text-align: right;\n",
       "    }\n",
       "</style>\n",
       "<table border=\"1\" class=\"dataframe\">\n",
       "  <thead>\n",
       "    <tr style=\"text-align: right;\">\n",
       "      <th></th>\n",
       "      <th>name</th>\n",
       "      <th>values</th>\n",
       "      <th>nancounts</th>\n",
       "      <th>type</th>\n",
       "    </tr>\n",
       "  </thead>\n",
       "  <tbody>\n",
       "    <tr>\n",
       "      <th>0</th>\n",
       "      <td>Home Ownership</td>\n",
       "      <td>4</td>\n",
       "      <td>0</td>\n",
       "      <td>object</td>\n",
       "    </tr>\n",
       "    <tr>\n",
       "      <th>1</th>\n",
       "      <td>Annual Income</td>\n",
       "      <td>7107</td>\n",
       "      <td>2070</td>\n",
       "      <td>float64</td>\n",
       "    </tr>\n",
       "    <tr>\n",
       "      <th>2</th>\n",
       "      <td>Years in current job</td>\n",
       "      <td>11</td>\n",
       "      <td>457</td>\n",
       "      <td>object</td>\n",
       "    </tr>\n",
       "    <tr>\n",
       "      <th>3</th>\n",
       "      <td>Tax Liens</td>\n",
       "      <td>9</td>\n",
       "      <td>0</td>\n",
       "      <td>float64</td>\n",
       "    </tr>\n",
       "    <tr>\n",
       "      <th>4</th>\n",
       "      <td>Number of Open Accounts</td>\n",
       "      <td>42</td>\n",
       "      <td>0</td>\n",
       "      <td>float64</td>\n",
       "    </tr>\n",
       "    <tr>\n",
       "      <th>5</th>\n",
       "      <td>Years of Credit History</td>\n",
       "      <td>423</td>\n",
       "      <td>0</td>\n",
       "      <td>float64</td>\n",
       "    </tr>\n",
       "    <tr>\n",
       "      <th>6</th>\n",
       "      <td>Maximum Open Credit</td>\n",
       "      <td>9096</td>\n",
       "      <td>0</td>\n",
       "      <td>float64</td>\n",
       "    </tr>\n",
       "    <tr>\n",
       "      <th>7</th>\n",
       "      <td>Number of Credit Problems</td>\n",
       "      <td>9</td>\n",
       "      <td>0</td>\n",
       "      <td>float64</td>\n",
       "    </tr>\n",
       "    <tr>\n",
       "      <th>8</th>\n",
       "      <td>Months since last delinquent</td>\n",
       "      <td>89</td>\n",
       "      <td>5439</td>\n",
       "      <td>float64</td>\n",
       "    </tr>\n",
       "    <tr>\n",
       "      <th>9</th>\n",
       "      <td>Bankruptcies</td>\n",
       "      <td>6</td>\n",
       "      <td>17</td>\n",
       "      <td>float64</td>\n",
       "    </tr>\n",
       "    <tr>\n",
       "      <th>10</th>\n",
       "      <td>Purpose</td>\n",
       "      <td>15</td>\n",
       "      <td>0</td>\n",
       "      <td>object</td>\n",
       "    </tr>\n",
       "    <tr>\n",
       "      <th>11</th>\n",
       "      <td>Term</td>\n",
       "      <td>2</td>\n",
       "      <td>0</td>\n",
       "      <td>object</td>\n",
       "    </tr>\n",
       "    <tr>\n",
       "      <th>12</th>\n",
       "      <td>Current Loan Amount</td>\n",
       "      <td>6786</td>\n",
       "      <td>0</td>\n",
       "      <td>float64</td>\n",
       "    </tr>\n",
       "    <tr>\n",
       "      <th>13</th>\n",
       "      <td>Current Credit Balance</td>\n",
       "      <td>8457</td>\n",
       "      <td>0</td>\n",
       "      <td>float64</td>\n",
       "    </tr>\n",
       "    <tr>\n",
       "      <th>14</th>\n",
       "      <td>Monthly Debt</td>\n",
       "      <td>8677</td>\n",
       "      <td>0</td>\n",
       "      <td>float64</td>\n",
       "    </tr>\n",
       "    <tr>\n",
       "      <th>15</th>\n",
       "      <td>Credit Score</td>\n",
       "      <td>278</td>\n",
       "      <td>2070</td>\n",
       "      <td>float64</td>\n",
       "    </tr>\n",
       "    <tr>\n",
       "      <th>16</th>\n",
       "      <td>Credit Default</td>\n",
       "      <td>2</td>\n",
       "      <td>2500</td>\n",
       "      <td>float64</td>\n",
       "    </tr>\n",
       "  </tbody>\n",
       "</table>\n",
       "</div>"
      ],
      "text/plain": [
       "                            name values nancounts     type\n",
       "0                 Home Ownership      4         0   object\n",
       "1                  Annual Income   7107      2070  float64\n",
       "2           Years in current job     11       457   object\n",
       "3                      Tax Liens      9         0  float64\n",
       "4        Number of Open Accounts     42         0  float64\n",
       "5        Years of Credit History    423         0  float64\n",
       "6            Maximum Open Credit   9096         0  float64\n",
       "7      Number of Credit Problems      9         0  float64\n",
       "8   Months since last delinquent     89      5439  float64\n",
       "9                   Bankruptcies      6        17  float64\n",
       "10                       Purpose     15         0   object\n",
       "11                          Term      2         0   object\n",
       "12           Current Loan Amount   6786         0  float64\n",
       "13        Current Credit Balance   8457         0  float64\n",
       "14                  Monthly Debt   8677         0  float64\n",
       "15                  Credit Score    278      2070  float64\n",
       "16                Credit Default      2      2500  float64"
      ]
     },
     "execution_count": 7,
     "metadata": {},
     "output_type": "execute_result"
    }
   ],
   "source": [
    "col_info(df)"
   ]
  },
  {
   "cell_type": "code",
   "execution_count": 8,
   "metadata": {
    "hidden": true
   },
   "outputs": [],
   "source": [
    "#df = df.drop('Months since last delinquent',axis = 'columns')\n"
   ]
  },
  {
   "cell_type": "code",
   "execution_count": 9,
   "metadata": {
    "hidden": true
   },
   "outputs": [],
   "source": [
    "col_to_cat = [\n",
    "    'Home Ownership',\n",
    "    'Years in current job',\n",
    "    'Tax Liens',\n",
    "    'Number of Open Accounts',\n",
    "    'Number of Credit Problems',\n",
    "    'Bankruptcies',\n",
    "    'Purpose',\n",
    "             ]\n",
    "\n",
    "df[col_to_cat] = df[col_to_cat].astype('category')"
   ]
  },
  {
   "cell_type": "code",
   "execution_count": 10,
   "metadata": {
    "hidden": true
   },
   "outputs": [],
   "source": [
    "df['Term'] = pd.factorize(df['Term'])[0]\n",
    "df['Term'] = df['Term'].astype('category')"
   ]
  },
  {
   "cell_type": "code",
   "execution_count": 11,
   "metadata": {
    "hidden": true
   },
   "outputs": [],
   "source": [
    "df['Years in current job'] = df['Years in current job'].fillna(df['Years in current job'].mode()[0])\n",
    "df['Bankruptcies'] = df['Bankruptcies'].fillna(df['Bankruptcies'].mode()[0])\n",
    "df['Months since last delinquent'] = df['Months since last delinquent'].fillna(0)"
   ]
  },
  {
   "cell_type": "code",
   "execution_count": 12,
   "metadata": {
    "hidden": true
   },
   "outputs": [
    {
     "data": {
      "text/html": [
       "<div>\n",
       "<style scoped>\n",
       "    .dataframe tbody tr th:only-of-type {\n",
       "        vertical-align: middle;\n",
       "    }\n",
       "\n",
       "    .dataframe tbody tr th {\n",
       "        vertical-align: top;\n",
       "    }\n",
       "\n",
       "    .dataframe thead th {\n",
       "        text-align: right;\n",
       "    }\n",
       "</style>\n",
       "<table border=\"1\" class=\"dataframe\">\n",
       "  <thead>\n",
       "    <tr style=\"text-align: right;\">\n",
       "      <th></th>\n",
       "      <th>name</th>\n",
       "      <th>values</th>\n",
       "      <th>nancounts</th>\n",
       "      <th>type</th>\n",
       "    </tr>\n",
       "  </thead>\n",
       "  <tbody>\n",
       "    <tr>\n",
       "      <th>0</th>\n",
       "      <td>Home Ownership</td>\n",
       "      <td>4</td>\n",
       "      <td>0</td>\n",
       "      <td>category</td>\n",
       "    </tr>\n",
       "    <tr>\n",
       "      <th>1</th>\n",
       "      <td>Annual Income</td>\n",
       "      <td>7107</td>\n",
       "      <td>2070</td>\n",
       "      <td>float64</td>\n",
       "    </tr>\n",
       "    <tr>\n",
       "      <th>2</th>\n",
       "      <td>Years in current job</td>\n",
       "      <td>11</td>\n",
       "      <td>0</td>\n",
       "      <td>category</td>\n",
       "    </tr>\n",
       "    <tr>\n",
       "      <th>3</th>\n",
       "      <td>Tax Liens</td>\n",
       "      <td>9</td>\n",
       "      <td>0</td>\n",
       "      <td>category</td>\n",
       "    </tr>\n",
       "    <tr>\n",
       "      <th>4</th>\n",
       "      <td>Number of Open Accounts</td>\n",
       "      <td>42</td>\n",
       "      <td>0</td>\n",
       "      <td>category</td>\n",
       "    </tr>\n",
       "    <tr>\n",
       "      <th>5</th>\n",
       "      <td>Years of Credit History</td>\n",
       "      <td>423</td>\n",
       "      <td>0</td>\n",
       "      <td>float64</td>\n",
       "    </tr>\n",
       "    <tr>\n",
       "      <th>6</th>\n",
       "      <td>Maximum Open Credit</td>\n",
       "      <td>9096</td>\n",
       "      <td>0</td>\n",
       "      <td>float64</td>\n",
       "    </tr>\n",
       "    <tr>\n",
       "      <th>7</th>\n",
       "      <td>Number of Credit Problems</td>\n",
       "      <td>9</td>\n",
       "      <td>0</td>\n",
       "      <td>category</td>\n",
       "    </tr>\n",
       "    <tr>\n",
       "      <th>8</th>\n",
       "      <td>Months since last delinquent</td>\n",
       "      <td>89</td>\n",
       "      <td>0</td>\n",
       "      <td>float64</td>\n",
       "    </tr>\n",
       "    <tr>\n",
       "      <th>9</th>\n",
       "      <td>Bankruptcies</td>\n",
       "      <td>6</td>\n",
       "      <td>0</td>\n",
       "      <td>category</td>\n",
       "    </tr>\n",
       "    <tr>\n",
       "      <th>10</th>\n",
       "      <td>Purpose</td>\n",
       "      <td>15</td>\n",
       "      <td>0</td>\n",
       "      <td>category</td>\n",
       "    </tr>\n",
       "    <tr>\n",
       "      <th>11</th>\n",
       "      <td>Term</td>\n",
       "      <td>2</td>\n",
       "      <td>0</td>\n",
       "      <td>category</td>\n",
       "    </tr>\n",
       "    <tr>\n",
       "      <th>12</th>\n",
       "      <td>Current Loan Amount</td>\n",
       "      <td>6786</td>\n",
       "      <td>0</td>\n",
       "      <td>float64</td>\n",
       "    </tr>\n",
       "    <tr>\n",
       "      <th>13</th>\n",
       "      <td>Current Credit Balance</td>\n",
       "      <td>8457</td>\n",
       "      <td>0</td>\n",
       "      <td>float64</td>\n",
       "    </tr>\n",
       "    <tr>\n",
       "      <th>14</th>\n",
       "      <td>Monthly Debt</td>\n",
       "      <td>8677</td>\n",
       "      <td>0</td>\n",
       "      <td>float64</td>\n",
       "    </tr>\n",
       "    <tr>\n",
       "      <th>15</th>\n",
       "      <td>Credit Score</td>\n",
       "      <td>278</td>\n",
       "      <td>2070</td>\n",
       "      <td>float64</td>\n",
       "    </tr>\n",
       "    <tr>\n",
       "      <th>16</th>\n",
       "      <td>Credit Default</td>\n",
       "      <td>2</td>\n",
       "      <td>2500</td>\n",
       "      <td>float64</td>\n",
       "    </tr>\n",
       "  </tbody>\n",
       "</table>\n",
       "</div>"
      ],
      "text/plain": [
       "                            name values nancounts      type\n",
       "0                 Home Ownership      4         0  category\n",
       "1                  Annual Income   7107      2070   float64\n",
       "2           Years in current job     11         0  category\n",
       "3                      Tax Liens      9         0  category\n",
       "4        Number of Open Accounts     42         0  category\n",
       "5        Years of Credit History    423         0   float64\n",
       "6            Maximum Open Credit   9096         0   float64\n",
       "7      Number of Credit Problems      9         0  category\n",
       "8   Months since last delinquent     89         0   float64\n",
       "9                   Bankruptcies      6         0  category\n",
       "10                       Purpose     15         0  category\n",
       "11                          Term      2         0  category\n",
       "12           Current Loan Amount   6786         0   float64\n",
       "13        Current Credit Balance   8457         0   float64\n",
       "14                  Monthly Debt   8677         0   float64\n",
       "15                  Credit Score    278      2070   float64\n",
       "16                Credit Default      2      2500   float64"
      ]
     },
     "execution_count": 12,
     "metadata": {},
     "output_type": "execute_result"
    }
   ],
   "source": [
    "col_info(df)"
   ]
  },
  {
   "cell_type": "code",
   "execution_count": 13,
   "metadata": {
    "hidden": true
   },
   "outputs": [
    {
     "data": {
      "text/html": [
       "<div>\n",
       "<style scoped>\n",
       "    .dataframe tbody tr th:only-of-type {\n",
       "        vertical-align: middle;\n",
       "    }\n",
       "\n",
       "    .dataframe tbody tr th {\n",
       "        vertical-align: top;\n",
       "    }\n",
       "\n",
       "    .dataframe thead th {\n",
       "        text-align: right;\n",
       "    }\n",
       "</style>\n",
       "<table border=\"1\" class=\"dataframe\">\n",
       "  <thead>\n",
       "    <tr style=\"text-align: right;\">\n",
       "      <th></th>\n",
       "      <th>count</th>\n",
       "      <th>mean</th>\n",
       "      <th>std</th>\n",
       "      <th>min</th>\n",
       "      <th>25%</th>\n",
       "      <th>50%</th>\n",
       "      <th>75%</th>\n",
       "      <th>max</th>\n",
       "    </tr>\n",
       "  </thead>\n",
       "  <tbody>\n",
       "    <tr>\n",
       "      <th>Annual Income</th>\n",
       "      <td>7930.000</td>\n",
       "      <td>1366524.510</td>\n",
       "      <td>863827.629</td>\n",
       "      <td>106533.000</td>\n",
       "      <td>845989.250</td>\n",
       "      <td>1168813.500</td>\n",
       "      <td>1638693.000</td>\n",
       "      <td>14975610.000</td>\n",
       "    </tr>\n",
       "    <tr>\n",
       "      <th>Years of Credit History</th>\n",
       "      <td>10000.000</td>\n",
       "      <td>18.320</td>\n",
       "      <td>7.095</td>\n",
       "      <td>3.900</td>\n",
       "      <td>13.500</td>\n",
       "      <td>17.000</td>\n",
       "      <td>22.000</td>\n",
       "      <td>57.700</td>\n",
       "    </tr>\n",
       "    <tr>\n",
       "      <th>Maximum Open Credit</th>\n",
       "      <td>10000.000</td>\n",
       "      <td>886507.897</td>\n",
       "      <td>13899818.885</td>\n",
       "      <td>0.000</td>\n",
       "      <td>278811.500</td>\n",
       "      <td>478181.000</td>\n",
       "      <td>794359.500</td>\n",
       "      <td>1304726170.000</td>\n",
       "    </tr>\n",
       "    <tr>\n",
       "      <th>Months since last delinquent</th>\n",
       "      <td>10000.000</td>\n",
       "      <td>15.765</td>\n",
       "      <td>22.640</td>\n",
       "      <td>0.000</td>\n",
       "      <td>0.000</td>\n",
       "      <td>0.000</td>\n",
       "      <td>29.000</td>\n",
       "      <td>118.000</td>\n",
       "    </tr>\n",
       "    <tr>\n",
       "      <th>Current Loan Amount</th>\n",
       "      <td>10000.000</td>\n",
       "      <td>11943812.992</td>\n",
       "      <td>32008780.390</td>\n",
       "      <td>11242.000</td>\n",
       "      <td>180548.500</td>\n",
       "      <td>311718.000</td>\n",
       "      <td>521070.000</td>\n",
       "      <td>99999999.000</td>\n",
       "    </tr>\n",
       "    <tr>\n",
       "      <th>Current Credit Balance</th>\n",
       "      <td>10000.000</td>\n",
       "      <td>291474.089</td>\n",
       "      <td>333997.864</td>\n",
       "      <td>0.000</td>\n",
       "      <td>113225.750</td>\n",
       "      <td>209019.000</td>\n",
       "      <td>361950.000</td>\n",
       "      <td>6506797.000</td>\n",
       "    </tr>\n",
       "    <tr>\n",
       "      <th>Monthly Debt</th>\n",
       "      <td>10000.000</td>\n",
       "      <td>18303.676</td>\n",
       "      <td>11831.648</td>\n",
       "      <td>0.000</td>\n",
       "      <td>10059.750</td>\n",
       "      <td>16200.000</td>\n",
       "      <td>23888.250</td>\n",
       "      <td>136679.000</td>\n",
       "    </tr>\n",
       "    <tr>\n",
       "      <th>Credit Score</th>\n",
       "      <td>7930.000</td>\n",
       "      <td>1171.992</td>\n",
       "      <td>1639.813</td>\n",
       "      <td>585.000</td>\n",
       "      <td>711.000</td>\n",
       "      <td>731.000</td>\n",
       "      <td>743.000</td>\n",
       "      <td>7510.000</td>\n",
       "    </tr>\n",
       "    <tr>\n",
       "      <th>Credit Default</th>\n",
       "      <td>7500.000</td>\n",
       "      <td>0.282</td>\n",
       "      <td>0.450</td>\n",
       "      <td>0.000</td>\n",
       "      <td>0.000</td>\n",
       "      <td>0.000</td>\n",
       "      <td>1.000</td>\n",
       "      <td>1.000</td>\n",
       "    </tr>\n",
       "  </tbody>\n",
       "</table>\n",
       "</div>"
      ],
      "text/plain": [
       "                                 count         mean          std        min  \\\n",
       "Annual Income                 7930.000  1366524.510   863827.629 106533.000   \n",
       "Years of Credit History      10000.000       18.320        7.095      3.900   \n",
       "Maximum Open Credit          10000.000   886507.897 13899818.885      0.000   \n",
       "Months since last delinquent 10000.000       15.765       22.640      0.000   \n",
       "Current Loan Amount          10000.000 11943812.992 32008780.390  11242.000   \n",
       "Current Credit Balance       10000.000   291474.089   333997.864      0.000   \n",
       "Monthly Debt                 10000.000    18303.676    11831.648      0.000   \n",
       "Credit Score                  7930.000     1171.992     1639.813    585.000   \n",
       "Credit Default                7500.000        0.282        0.450      0.000   \n",
       "\n",
       "                                    25%         50%         75%            max  \n",
       "Annual Income                845989.250 1168813.500 1638693.000   14975610.000  \n",
       "Years of Credit History          13.500      17.000      22.000         57.700  \n",
       "Maximum Open Credit          278811.500  478181.000  794359.500 1304726170.000  \n",
       "Months since last delinquent      0.000       0.000      29.000        118.000  \n",
       "Current Loan Amount          180548.500  311718.000  521070.000   99999999.000  \n",
       "Current Credit Balance       113225.750  209019.000  361950.000    6506797.000  \n",
       "Monthly Debt                  10059.750   16200.000   23888.250     136679.000  \n",
       "Credit Score                    711.000     731.000     743.000       7510.000  \n",
       "Credit Default                    0.000       0.000       1.000          1.000  "
      ]
     },
     "execution_count": 13,
     "metadata": {},
     "output_type": "execute_result"
    }
   ],
   "source": [
    "df.describe().T"
   ]
  },
  {
   "cell_type": "code",
   "execution_count": 14,
   "metadata": {
    "hidden": true
   },
   "outputs": [
    {
     "data": {
      "text/html": [
       "<div>\n",
       "<style scoped>\n",
       "    .dataframe tbody tr th:only-of-type {\n",
       "        vertical-align: middle;\n",
       "    }\n",
       "\n",
       "    .dataframe tbody tr th {\n",
       "        vertical-align: top;\n",
       "    }\n",
       "\n",
       "    .dataframe thead th {\n",
       "        text-align: right;\n",
       "    }\n",
       "</style>\n",
       "<table border=\"1\" class=\"dataframe\">\n",
       "  <thead>\n",
       "    <tr style=\"text-align: right;\">\n",
       "      <th></th>\n",
       "      <th>count</th>\n",
       "      <th>mean</th>\n",
       "      <th>std</th>\n",
       "      <th>min</th>\n",
       "      <th>25%</th>\n",
       "      <th>50%</th>\n",
       "      <th>75%</th>\n",
       "      <th>max</th>\n",
       "    </tr>\n",
       "  </thead>\n",
       "  <tbody>\n",
       "    <tr>\n",
       "      <th>Annual Income</th>\n",
       "      <td>21.000</td>\n",
       "      <td>2573233.333</td>\n",
       "      <td>1346903.971</td>\n",
       "      <td>1236292.000</td>\n",
       "      <td>1475198.000</td>\n",
       "      <td>2226230.000</td>\n",
       "      <td>3312365.000</td>\n",
       "      <td>6029954.000</td>\n",
       "    </tr>\n",
       "    <tr>\n",
       "      <th>Years of Credit History</th>\n",
       "      <td>24.000</td>\n",
       "      <td>22.787</td>\n",
       "      <td>6.429</td>\n",
       "      <td>12.300</td>\n",
       "      <td>17.725</td>\n",
       "      <td>21.250</td>\n",
       "      <td>25.850</td>\n",
       "      <td>35.500</td>\n",
       "    </tr>\n",
       "    <tr>\n",
       "      <th>Maximum Open Credit</th>\n",
       "      <td>24.000</td>\n",
       "      <td>100365707.750</td>\n",
       "      <td>271001732.715</td>\n",
       "      <td>10201598.000</td>\n",
       "      <td>13598161.500</td>\n",
       "      <td>19232906.000</td>\n",
       "      <td>30036220.500</td>\n",
       "      <td>1304726170.000</td>\n",
       "    </tr>\n",
       "    <tr>\n",
       "      <th>Months since last delinquent</th>\n",
       "      <td>24.000</td>\n",
       "      <td>11.000</td>\n",
       "      <td>18.817</td>\n",
       "      <td>0.000</td>\n",
       "      <td>0.000</td>\n",
       "      <td>0.000</td>\n",
       "      <td>21.750</td>\n",
       "      <td>59.000</td>\n",
       "    </tr>\n",
       "    <tr>\n",
       "      <th>Current Loan Amount</th>\n",
       "      <td>24.000</td>\n",
       "      <td>29472545.208</td>\n",
       "      <td>46230706.261</td>\n",
       "      <td>33110.000</td>\n",
       "      <td>249606.500</td>\n",
       "      <td>705177.000</td>\n",
       "      <td>99999999.000</td>\n",
       "      <td>99999999.000</td>\n",
       "    </tr>\n",
       "    <tr>\n",
       "      <th>Current Credit Balance</th>\n",
       "      <td>24.000</td>\n",
       "      <td>2308763.625</td>\n",
       "      <td>1681740.333</td>\n",
       "      <td>656450.000</td>\n",
       "      <td>1072303.000</td>\n",
       "      <td>1941781.000</td>\n",
       "      <td>2526211.500</td>\n",
       "      <td>6506797.000</td>\n",
       "    </tr>\n",
       "    <tr>\n",
       "      <th>Monthly Debt</th>\n",
       "      <td>24.000</td>\n",
       "      <td>33686.250</td>\n",
       "      <td>29427.769</td>\n",
       "      <td>5492.000</td>\n",
       "      <td>15923.000</td>\n",
       "      <td>26952.500</td>\n",
       "      <td>39453.750</td>\n",
       "      <td>136679.000</td>\n",
       "    </tr>\n",
       "    <tr>\n",
       "      <th>Credit Score</th>\n",
       "      <td>21.000</td>\n",
       "      <td>736.095</td>\n",
       "      <td>17.570</td>\n",
       "      <td>695.000</td>\n",
       "      <td>729.000</td>\n",
       "      <td>743.000</td>\n",
       "      <td>749.000</td>\n",
       "      <td>751.000</td>\n",
       "    </tr>\n",
       "    <tr>\n",
       "      <th>Credit Default</th>\n",
       "      <td>19.000</td>\n",
       "      <td>0.000</td>\n",
       "      <td>0.000</td>\n",
       "      <td>0.000</td>\n",
       "      <td>0.000</td>\n",
       "      <td>0.000</td>\n",
       "      <td>0.000</td>\n",
       "      <td>0.000</td>\n",
       "    </tr>\n",
       "  </tbody>\n",
       "</table>\n",
       "</div>"
      ],
      "text/plain": [
       "                              count          mean           std          min  \\\n",
       "Annual Income                21.000   2573233.333   1346903.971  1236292.000   \n",
       "Years of Credit History      24.000        22.787         6.429       12.300   \n",
       "Maximum Open Credit          24.000 100365707.750 271001732.715 10201598.000   \n",
       "Months since last delinquent 24.000        11.000        18.817        0.000   \n",
       "Current Loan Amount          24.000  29472545.208  46230706.261    33110.000   \n",
       "Current Credit Balance       24.000   2308763.625   1681740.333   656450.000   \n",
       "Monthly Debt                 24.000     33686.250     29427.769     5492.000   \n",
       "Credit Score                 21.000       736.095        17.570      695.000   \n",
       "Credit Default               19.000         0.000         0.000        0.000   \n",
       "\n",
       "                                      25%          50%          75%  \\\n",
       "Annual Income                 1475198.000  2226230.000  3312365.000   \n",
       "Years of Credit History            17.725       21.250       25.850   \n",
       "Maximum Open Credit          13598161.500 19232906.000 30036220.500   \n",
       "Months since last delinquent        0.000        0.000       21.750   \n",
       "Current Loan Amount            249606.500   705177.000 99999999.000   \n",
       "Current Credit Balance        1072303.000  1941781.000  2526211.500   \n",
       "Monthly Debt                    15923.000    26952.500    39453.750   \n",
       "Credit Score                      729.000      743.000      749.000   \n",
       "Credit Default                      0.000        0.000        0.000   \n",
       "\n",
       "                                        max  \n",
       "Annual Income                   6029954.000  \n",
       "Years of Credit History              35.500  \n",
       "Maximum Open Credit          1304726170.000  \n",
       "Months since last delinquent         59.000  \n",
       "Current Loan Amount            99999999.000  \n",
       "Current Credit Balance          6506797.000  \n",
       "Monthly Debt                     136679.000  \n",
       "Credit Score                        751.000  \n",
       "Credit Default                        0.000  "
      ]
     },
     "execution_count": 14,
     "metadata": {},
     "output_type": "execute_result"
    }
   ],
   "source": [
    "df[df['Maximum Open Credit'] >10_000_000 ].describe().T"
   ]
  },
  {
   "cell_type": "code",
   "execution_count": 15,
   "metadata": {
    "hidden": true
   },
   "outputs": [],
   "source": [
    "df.loc[df['Maximum Open Credit'] >10_000_000,'Maximum Open Credit' ] = np.nan"
   ]
  },
  {
   "cell_type": "code",
   "execution_count": 16,
   "metadata": {
    "hidden": true
   },
   "outputs": [
    {
     "data": {
      "text/html": [
       "<div>\n",
       "<style scoped>\n",
       "    .dataframe tbody tr th:only-of-type {\n",
       "        vertical-align: middle;\n",
       "    }\n",
       "\n",
       "    .dataframe tbody tr th {\n",
       "        vertical-align: top;\n",
       "    }\n",
       "\n",
       "    .dataframe thead th {\n",
       "        text-align: right;\n",
       "    }\n",
       "</style>\n",
       "<table border=\"1\" class=\"dataframe\">\n",
       "  <thead>\n",
       "    <tr style=\"text-align: right;\">\n",
       "      <th></th>\n",
       "      <th>count</th>\n",
       "      <th>mean</th>\n",
       "      <th>std</th>\n",
       "      <th>min</th>\n",
       "      <th>25%</th>\n",
       "      <th>50%</th>\n",
       "      <th>75%</th>\n",
       "      <th>max</th>\n",
       "    </tr>\n",
       "  </thead>\n",
       "  <tbody>\n",
       "    <tr>\n",
       "      <th>Annual Income</th>\n",
       "      <td>1167.000</td>\n",
       "      <td>1408450.674</td>\n",
       "      <td>859041.228</td>\n",
       "      <td>106533.000</td>\n",
       "      <td>872366.000</td>\n",
       "      <td>1239826.000</td>\n",
       "      <td>1720260.000</td>\n",
       "      <td>8758449.000</td>\n",
       "    </tr>\n",
       "    <tr>\n",
       "      <th>Years of Credit History</th>\n",
       "      <td>1167.000</td>\n",
       "      <td>18.377</td>\n",
       "      <td>6.937</td>\n",
       "      <td>4.800</td>\n",
       "      <td>13.700</td>\n",
       "      <td>17.000</td>\n",
       "      <td>21.750</td>\n",
       "      <td>50.900</td>\n",
       "    </tr>\n",
       "    <tr>\n",
       "      <th>Maximum Open Credit</th>\n",
       "      <td>1160.000</td>\n",
       "      <td>684047.916</td>\n",
       "      <td>704975.449</td>\n",
       "      <td>0.000</td>\n",
       "      <td>296736.000</td>\n",
       "      <td>518199.000</td>\n",
       "      <td>846939.500</td>\n",
       "      <td>9516540.000</td>\n",
       "    </tr>\n",
       "    <tr>\n",
       "      <th>Months since last delinquent</th>\n",
       "      <td>1167.000</td>\n",
       "      <td>14.873</td>\n",
       "      <td>22.053</td>\n",
       "      <td>0.000</td>\n",
       "      <td>0.000</td>\n",
       "      <td>0.000</td>\n",
       "      <td>26.000</td>\n",
       "      <td>81.000</td>\n",
       "    </tr>\n",
       "    <tr>\n",
       "      <th>Current Loan Amount</th>\n",
       "      <td>1167.000</td>\n",
       "      <td>99999999.000</td>\n",
       "      <td>0.000</td>\n",
       "      <td>99999999.000</td>\n",
       "      <td>99999999.000</td>\n",
       "      <td>99999999.000</td>\n",
       "      <td>99999999.000</td>\n",
       "      <td>99999999.000</td>\n",
       "    </tr>\n",
       "    <tr>\n",
       "      <th>Current Credit Balance</th>\n",
       "      <td>1167.000</td>\n",
       "      <td>302688.886</td>\n",
       "      <td>369630.375</td>\n",
       "      <td>0.000</td>\n",
       "      <td>111948.000</td>\n",
       "      <td>213940.000</td>\n",
       "      <td>367232.000</td>\n",
       "      <td>4304051.000</td>\n",
       "    </tr>\n",
       "    <tr>\n",
       "      <th>Monthly Debt</th>\n",
       "      <td>1167.000</td>\n",
       "      <td>18039.287</td>\n",
       "      <td>12070.164</td>\n",
       "      <td>0.000</td>\n",
       "      <td>9494.500</td>\n",
       "      <td>15640.000</td>\n",
       "      <td>23977.500</td>\n",
       "      <td>94674.000</td>\n",
       "    </tr>\n",
       "    <tr>\n",
       "      <th>Credit Score</th>\n",
       "      <td>1167.000</td>\n",
       "      <td>729.736</td>\n",
       "      <td>22.203</td>\n",
       "      <td>587.000</td>\n",
       "      <td>726.000</td>\n",
       "      <td>737.000</td>\n",
       "      <td>744.000</td>\n",
       "      <td>751.000</td>\n",
       "    </tr>\n",
       "    <tr>\n",
       "      <th>Credit Default</th>\n",
       "      <td>870.000</td>\n",
       "      <td>0.000</td>\n",
       "      <td>0.000</td>\n",
       "      <td>0.000</td>\n",
       "      <td>0.000</td>\n",
       "      <td>0.000</td>\n",
       "      <td>0.000</td>\n",
       "      <td>0.000</td>\n",
       "    </tr>\n",
       "  </tbody>\n",
       "</table>\n",
       "</div>"
      ],
      "text/plain": [
       "                                count         mean        std          min  \\\n",
       "Annual Income                1167.000  1408450.674 859041.228   106533.000   \n",
       "Years of Credit History      1167.000       18.377      6.937        4.800   \n",
       "Maximum Open Credit          1160.000   684047.916 704975.449        0.000   \n",
       "Months since last delinquent 1167.000       14.873     22.053        0.000   \n",
       "Current Loan Amount          1167.000 99999999.000      0.000 99999999.000   \n",
       "Current Credit Balance       1167.000   302688.886 369630.375        0.000   \n",
       "Monthly Debt                 1167.000    18039.287  12070.164        0.000   \n",
       "Credit Score                 1167.000      729.736     22.203      587.000   \n",
       "Credit Default                870.000        0.000      0.000        0.000   \n",
       "\n",
       "                                      25%          50%          75%  \\\n",
       "Annual Income                  872366.000  1239826.000  1720260.000   \n",
       "Years of Credit History            13.700       17.000       21.750   \n",
       "Maximum Open Credit            296736.000   518199.000   846939.500   \n",
       "Months since last delinquent        0.000        0.000       26.000   \n",
       "Current Loan Amount          99999999.000 99999999.000 99999999.000   \n",
       "Current Credit Balance         111948.000   213940.000   367232.000   \n",
       "Monthly Debt                     9494.500    15640.000    23977.500   \n",
       "Credit Score                      726.000      737.000      744.000   \n",
       "Credit Default                      0.000        0.000        0.000   \n",
       "\n",
       "                                      max  \n",
       "Annual Income                 8758449.000  \n",
       "Years of Credit History            50.900  \n",
       "Maximum Open Credit           9516540.000  \n",
       "Months since last delinquent       81.000  \n",
       "Current Loan Amount          99999999.000  \n",
       "Current Credit Balance        4304051.000  \n",
       "Monthly Debt                    94674.000  \n",
       "Credit Score                      751.000  \n",
       "Credit Default                      0.000  "
      ]
     },
     "execution_count": 16,
     "metadata": {},
     "output_type": "execute_result"
    }
   ],
   "source": [
    "df[df['Current Loan Amount'] >800_000 ].describe().T"
   ]
  },
  {
   "cell_type": "code",
   "execution_count": 17,
   "metadata": {
    "hidden": true
   },
   "outputs": [],
   "source": [
    "df.loc[df['Current Loan Amount'] >800_000 ,'Current Loan Amount' ] = np.nan"
   ]
  },
  {
   "cell_type": "code",
   "execution_count": 18,
   "metadata": {
    "hidden": true
   },
   "outputs": [
    {
     "data": {
      "text/html": [
       "<div>\n",
       "<style scoped>\n",
       "    .dataframe tbody tr th:only-of-type {\n",
       "        vertical-align: middle;\n",
       "    }\n",
       "\n",
       "    .dataframe tbody tr th {\n",
       "        vertical-align: top;\n",
       "    }\n",
       "\n",
       "    .dataframe thead th {\n",
       "        text-align: right;\n",
       "    }\n",
       "</style>\n",
       "<table border=\"1\" class=\"dataframe\">\n",
       "  <thead>\n",
       "    <tr style=\"text-align: right;\">\n",
       "      <th></th>\n",
       "      <th>name</th>\n",
       "      <th>values</th>\n",
       "      <th>nancounts</th>\n",
       "      <th>type</th>\n",
       "    </tr>\n",
       "  </thead>\n",
       "  <tbody>\n",
       "    <tr>\n",
       "      <th>0</th>\n",
       "      <td>Home Ownership</td>\n",
       "      <td>4</td>\n",
       "      <td>0</td>\n",
       "      <td>category</td>\n",
       "    </tr>\n",
       "    <tr>\n",
       "      <th>1</th>\n",
       "      <td>Annual Income</td>\n",
       "      <td>7107</td>\n",
       "      <td>2070</td>\n",
       "      <td>float64</td>\n",
       "    </tr>\n",
       "    <tr>\n",
       "      <th>2</th>\n",
       "      <td>Years in current job</td>\n",
       "      <td>11</td>\n",
       "      <td>0</td>\n",
       "      <td>category</td>\n",
       "    </tr>\n",
       "    <tr>\n",
       "      <th>3</th>\n",
       "      <td>Tax Liens</td>\n",
       "      <td>9</td>\n",
       "      <td>0</td>\n",
       "      <td>category</td>\n",
       "    </tr>\n",
       "    <tr>\n",
       "      <th>4</th>\n",
       "      <td>Number of Open Accounts</td>\n",
       "      <td>42</td>\n",
       "      <td>0</td>\n",
       "      <td>category</td>\n",
       "    </tr>\n",
       "    <tr>\n",
       "      <th>5</th>\n",
       "      <td>Years of Credit History</td>\n",
       "      <td>423</td>\n",
       "      <td>0</td>\n",
       "      <td>float64</td>\n",
       "    </tr>\n",
       "    <tr>\n",
       "      <th>6</th>\n",
       "      <td>Maximum Open Credit</td>\n",
       "      <td>9072</td>\n",
       "      <td>24</td>\n",
       "      <td>float64</td>\n",
       "    </tr>\n",
       "    <tr>\n",
       "      <th>7</th>\n",
       "      <td>Number of Credit Problems</td>\n",
       "      <td>9</td>\n",
       "      <td>0</td>\n",
       "      <td>category</td>\n",
       "    </tr>\n",
       "    <tr>\n",
       "      <th>8</th>\n",
       "      <td>Months since last delinquent</td>\n",
       "      <td>89</td>\n",
       "      <td>0</td>\n",
       "      <td>float64</td>\n",
       "    </tr>\n",
       "    <tr>\n",
       "      <th>9</th>\n",
       "      <td>Bankruptcies</td>\n",
       "      <td>6</td>\n",
       "      <td>0</td>\n",
       "      <td>category</td>\n",
       "    </tr>\n",
       "    <tr>\n",
       "      <th>10</th>\n",
       "      <td>Purpose</td>\n",
       "      <td>15</td>\n",
       "      <td>0</td>\n",
       "      <td>category</td>\n",
       "    </tr>\n",
       "    <tr>\n",
       "      <th>11</th>\n",
       "      <td>Term</td>\n",
       "      <td>2</td>\n",
       "      <td>0</td>\n",
       "      <td>category</td>\n",
       "    </tr>\n",
       "    <tr>\n",
       "      <th>12</th>\n",
       "      <td>Current Loan Amount</td>\n",
       "      <td>6785</td>\n",
       "      <td>1167</td>\n",
       "      <td>float64</td>\n",
       "    </tr>\n",
       "    <tr>\n",
       "      <th>13</th>\n",
       "      <td>Current Credit Balance</td>\n",
       "      <td>8457</td>\n",
       "      <td>0</td>\n",
       "      <td>float64</td>\n",
       "    </tr>\n",
       "    <tr>\n",
       "      <th>14</th>\n",
       "      <td>Monthly Debt</td>\n",
       "      <td>8677</td>\n",
       "      <td>0</td>\n",
       "      <td>float64</td>\n",
       "    </tr>\n",
       "    <tr>\n",
       "      <th>15</th>\n",
       "      <td>Credit Score</td>\n",
       "      <td>278</td>\n",
       "      <td>2070</td>\n",
       "      <td>float64</td>\n",
       "    </tr>\n",
       "    <tr>\n",
       "      <th>16</th>\n",
       "      <td>Credit Default</td>\n",
       "      <td>2</td>\n",
       "      <td>2500</td>\n",
       "      <td>float64</td>\n",
       "    </tr>\n",
       "  </tbody>\n",
       "</table>\n",
       "</div>"
      ],
      "text/plain": [
       "                            name values nancounts      type\n",
       "0                 Home Ownership      4         0  category\n",
       "1                  Annual Income   7107      2070   float64\n",
       "2           Years in current job     11         0  category\n",
       "3                      Tax Liens      9         0  category\n",
       "4        Number of Open Accounts     42         0  category\n",
       "5        Years of Credit History    423         0   float64\n",
       "6            Maximum Open Credit   9072        24   float64\n",
       "7      Number of Credit Problems      9         0  category\n",
       "8   Months since last delinquent     89         0   float64\n",
       "9                   Bankruptcies      6         0  category\n",
       "10                       Purpose     15         0  category\n",
       "11                          Term      2         0  category\n",
       "12           Current Loan Amount   6785      1167   float64\n",
       "13        Current Credit Balance   8457         0   float64\n",
       "14                  Monthly Debt   8677         0   float64\n",
       "15                  Credit Score    278      2070   float64\n",
       "16                Credit Default      2      2500   float64"
      ]
     },
     "execution_count": 18,
     "metadata": {},
     "output_type": "execute_result"
    }
   ],
   "source": [
    "col_info(df)"
   ]
  },
  {
   "cell_type": "code",
   "execution_count": 19,
   "metadata": {
    "hidden": true
   },
   "outputs": [],
   "source": [
    "# df.loc[df['Credit Score']> 800,'Credit Score' ] = df.loc[df['Credit Score']> 800,'Credit Score' ] /10\n"
   ]
  },
  {
   "cell_type": "code",
   "execution_count": 20,
   "metadata": {
    "hidden": true
   },
   "outputs": [],
   "source": [
    "df['ID'] = df.index.tolist()"
   ]
  },
  {
   "cell_type": "code",
   "execution_count": 21,
   "metadata": {
    "hidden": true
   },
   "outputs": [],
   "source": [
    "for cat_colname in df.select_dtypes(include='category').columns:\n",
    "    df[cat_colname] = pd.factorize(df[cat_colname])[0]\n",
    "    df[cat_colname] = df[cat_colname].astype('category')"
   ]
  },
  {
   "cell_type": "code",
   "execution_count": 22,
   "metadata": {
    "hidden": true
   },
   "outputs": [],
   "source": [
    "df = df[[df.columns[-1]] + df.columns[:-1].tolist()]"
   ]
  },
  {
   "cell_type": "code",
   "execution_count": 23,
   "metadata": {
    "hidden": true
   },
   "outputs": [
    {
     "data": {
      "text/html": [
       "<div>\n",
       "<style scoped>\n",
       "    .dataframe tbody tr th:only-of-type {\n",
       "        vertical-align: middle;\n",
       "    }\n",
       "\n",
       "    .dataframe tbody tr th {\n",
       "        vertical-align: top;\n",
       "    }\n",
       "\n",
       "    .dataframe thead th {\n",
       "        text-align: right;\n",
       "    }\n",
       "</style>\n",
       "<table border=\"1\" class=\"dataframe\">\n",
       "  <thead>\n",
       "    <tr style=\"text-align: right;\">\n",
       "      <th></th>\n",
       "      <th>name</th>\n",
       "      <th>values</th>\n",
       "      <th>nancounts</th>\n",
       "      <th>type</th>\n",
       "    </tr>\n",
       "  </thead>\n",
       "  <tbody>\n",
       "    <tr>\n",
       "      <th>0</th>\n",
       "      <td>ID</td>\n",
       "      <td>10000</td>\n",
       "      <td>0</td>\n",
       "      <td>int64</td>\n",
       "    </tr>\n",
       "    <tr>\n",
       "      <th>1</th>\n",
       "      <td>Home Ownership</td>\n",
       "      <td>4</td>\n",
       "      <td>0</td>\n",
       "      <td>category</td>\n",
       "    </tr>\n",
       "    <tr>\n",
       "      <th>2</th>\n",
       "      <td>Annual Income</td>\n",
       "      <td>7107</td>\n",
       "      <td>2070</td>\n",
       "      <td>float64</td>\n",
       "    </tr>\n",
       "    <tr>\n",
       "      <th>3</th>\n",
       "      <td>Years in current job</td>\n",
       "      <td>11</td>\n",
       "      <td>0</td>\n",
       "      <td>category</td>\n",
       "    </tr>\n",
       "    <tr>\n",
       "      <th>4</th>\n",
       "      <td>Tax Liens</td>\n",
       "      <td>9</td>\n",
       "      <td>0</td>\n",
       "      <td>category</td>\n",
       "    </tr>\n",
       "    <tr>\n",
       "      <th>5</th>\n",
       "      <td>Number of Open Accounts</td>\n",
       "      <td>42</td>\n",
       "      <td>0</td>\n",
       "      <td>category</td>\n",
       "    </tr>\n",
       "    <tr>\n",
       "      <th>6</th>\n",
       "      <td>Years of Credit History</td>\n",
       "      <td>423</td>\n",
       "      <td>0</td>\n",
       "      <td>float64</td>\n",
       "    </tr>\n",
       "    <tr>\n",
       "      <th>7</th>\n",
       "      <td>Maximum Open Credit</td>\n",
       "      <td>9072</td>\n",
       "      <td>24</td>\n",
       "      <td>float64</td>\n",
       "    </tr>\n",
       "    <tr>\n",
       "      <th>8</th>\n",
       "      <td>Number of Credit Problems</td>\n",
       "      <td>9</td>\n",
       "      <td>0</td>\n",
       "      <td>category</td>\n",
       "    </tr>\n",
       "    <tr>\n",
       "      <th>9</th>\n",
       "      <td>Months since last delinquent</td>\n",
       "      <td>89</td>\n",
       "      <td>0</td>\n",
       "      <td>float64</td>\n",
       "    </tr>\n",
       "    <tr>\n",
       "      <th>10</th>\n",
       "      <td>Bankruptcies</td>\n",
       "      <td>6</td>\n",
       "      <td>0</td>\n",
       "      <td>category</td>\n",
       "    </tr>\n",
       "    <tr>\n",
       "      <th>11</th>\n",
       "      <td>Purpose</td>\n",
       "      <td>15</td>\n",
       "      <td>0</td>\n",
       "      <td>category</td>\n",
       "    </tr>\n",
       "    <tr>\n",
       "      <th>12</th>\n",
       "      <td>Term</td>\n",
       "      <td>2</td>\n",
       "      <td>0</td>\n",
       "      <td>category</td>\n",
       "    </tr>\n",
       "    <tr>\n",
       "      <th>13</th>\n",
       "      <td>Current Loan Amount</td>\n",
       "      <td>6785</td>\n",
       "      <td>1167</td>\n",
       "      <td>float64</td>\n",
       "    </tr>\n",
       "    <tr>\n",
       "      <th>14</th>\n",
       "      <td>Current Credit Balance</td>\n",
       "      <td>8457</td>\n",
       "      <td>0</td>\n",
       "      <td>float64</td>\n",
       "    </tr>\n",
       "    <tr>\n",
       "      <th>15</th>\n",
       "      <td>Monthly Debt</td>\n",
       "      <td>8677</td>\n",
       "      <td>0</td>\n",
       "      <td>float64</td>\n",
       "    </tr>\n",
       "    <tr>\n",
       "      <th>16</th>\n",
       "      <td>Credit Score</td>\n",
       "      <td>278</td>\n",
       "      <td>2070</td>\n",
       "      <td>float64</td>\n",
       "    </tr>\n",
       "    <tr>\n",
       "      <th>17</th>\n",
       "      <td>Credit Default</td>\n",
       "      <td>2</td>\n",
       "      <td>2500</td>\n",
       "      <td>float64</td>\n",
       "    </tr>\n",
       "  </tbody>\n",
       "</table>\n",
       "</div>"
      ],
      "text/plain": [
       "                            name values nancounts      type\n",
       "0                             ID  10000         0     int64\n",
       "1                 Home Ownership      4         0  category\n",
       "2                  Annual Income   7107      2070   float64\n",
       "3           Years in current job     11         0  category\n",
       "4                      Tax Liens      9         0  category\n",
       "5        Number of Open Accounts     42         0  category\n",
       "6        Years of Credit History    423         0   float64\n",
       "7            Maximum Open Credit   9072        24   float64\n",
       "8      Number of Credit Problems      9         0  category\n",
       "9   Months since last delinquent     89         0   float64\n",
       "10                  Bankruptcies      6         0  category\n",
       "11                       Purpose     15         0  category\n",
       "12                          Term      2         0  category\n",
       "13           Current Loan Amount   6785      1167   float64\n",
       "14        Current Credit Balance   8457         0   float64\n",
       "15                  Monthly Debt   8677         0   float64\n",
       "16                  Credit Score    278      2070   float64\n",
       "17                Credit Default      2      2500   float64"
      ]
     },
     "execution_count": 23,
     "metadata": {},
     "output_type": "execute_result"
    }
   ],
   "source": [
    "col_info(df)"
   ]
  },
  {
   "cell_type": "code",
   "execution_count": 24,
   "metadata": {
    "hidden": true
   },
   "outputs": [
    {
     "data": {
      "image/png": "[encoded data removed]",
      "text/plain": [
       "<Figure size 720x576 with 1 Axes>"
      ]
     },
     "metadata": {
      "needs_background": "light"
     },
     "output_type": "display_data"
    }
   ],
   "source": [
    "corr_with_target = df.corr().iloc[:-1, -1].sort_values(ascending=False)\n",
    "plt.figure(figsize=(10, 8))\n",
    "sns.barplot(x=corr_with_target.values, y=corr_with_target.index)\n",
    "plt.title('Correlation with target variable');"
   ]
  },
  {
   "cell_type": "markdown",
   "metadata": {
    "heading_collapsed": true
   },
   "source": [
    "# Nan Filling"
   ]
  },
  {
   "cell_type": "code",
   "execution_count": 25,
   "metadata": {
    "hidden": true
   },
   "outputs": [],
   "source": [
    "df['Annual Income'] = df['Annual Income'].fillna(df['Annual Income'].mean())\n",
    "df['Maximum Open Credit'] = df['Maximum Open Credit'].fillna(df['Maximum Open Credit'].mean())\n",
    "df['Current Loan Amount'] = df['Current Loan Amount'].fillna(df['Current Loan Amount'].mean())\n",
    "df['Credit Score'] = df['Credit Score'].fillna(df['Credit Score'].mode()[0])"
   ]
  },
  {
   "cell_type": "code",
   "execution_count": 26,
   "metadata": {
    "hidden": true
   },
   "outputs": [
    {
     "data": {
      "text/html": [
       "<div>\n",
       "<style scoped>\n",
       "    .dataframe tbody tr th:only-of-type {\n",
       "        vertical-align: middle;\n",
       "    }\n",
       "\n",
       "    .dataframe tbody tr th {\n",
       "        vertical-align: top;\n",
       "    }\n",
       "\n",
       "    .dataframe thead th {\n",
       "        text-align: right;\n",
       "    }\n",
       "</style>\n",
       "<table border=\"1\" class=\"dataframe\">\n",
       "  <thead>\n",
       "    <tr style=\"text-align: right;\">\n",
       "      <th></th>\n",
       "      <th>name</th>\n",
       "      <th>values</th>\n",
       "      <th>nancounts</th>\n",
       "      <th>type</th>\n",
       "    </tr>\n",
       "  </thead>\n",
       "  <tbody>\n",
       "    <tr>\n",
       "      <th>0</th>\n",
       "      <td>ID</td>\n",
       "      <td>10000</td>\n",
       "      <td>0</td>\n",
       "      <td>int64</td>\n",
       "    </tr>\n",
       "    <tr>\n",
       "      <th>1</th>\n",
       "      <td>Home Ownership</td>\n",
       "      <td>4</td>\n",
       "      <td>0</td>\n",
       "      <td>category</td>\n",
       "    </tr>\n",
       "    <tr>\n",
       "      <th>2</th>\n",
       "      <td>Annual Income</td>\n",
       "      <td>7108</td>\n",
       "      <td>0</td>\n",
       "      <td>float64</td>\n",
       "    </tr>\n",
       "    <tr>\n",
       "      <th>3</th>\n",
       "      <td>Years in current job</td>\n",
       "      <td>11</td>\n",
       "      <td>0</td>\n",
       "      <td>category</td>\n",
       "    </tr>\n",
       "    <tr>\n",
       "      <th>4</th>\n",
       "      <td>Tax Liens</td>\n",
       "      <td>9</td>\n",
       "      <td>0</td>\n",
       "      <td>category</td>\n",
       "    </tr>\n",
       "    <tr>\n",
       "      <th>5</th>\n",
       "      <td>Number of Open Accounts</td>\n",
       "      <td>42</td>\n",
       "      <td>0</td>\n",
       "      <td>category</td>\n",
       "    </tr>\n",
       "    <tr>\n",
       "      <th>6</th>\n",
       "      <td>Years of Credit History</td>\n",
       "      <td>423</td>\n",
       "      <td>0</td>\n",
       "      <td>float64</td>\n",
       "    </tr>\n",
       "    <tr>\n",
       "      <th>7</th>\n",
       "      <td>Maximum Open Credit</td>\n",
       "      <td>9073</td>\n",
       "      <td>0</td>\n",
       "      <td>float64</td>\n",
       "    </tr>\n",
       "    <tr>\n",
       "      <th>8</th>\n",
       "      <td>Number of Credit Problems</td>\n",
       "      <td>9</td>\n",
       "      <td>0</td>\n",
       "      <td>category</td>\n",
       "    </tr>\n",
       "    <tr>\n",
       "      <th>9</th>\n",
       "      <td>Months since last delinquent</td>\n",
       "      <td>89</td>\n",
       "      <td>0</td>\n",
       "      <td>float64</td>\n",
       "    </tr>\n",
       "    <tr>\n",
       "      <th>10</th>\n",
       "      <td>Bankruptcies</td>\n",
       "      <td>6</td>\n",
       "      <td>0</td>\n",
       "      <td>category</td>\n",
       "    </tr>\n",
       "    <tr>\n",
       "      <th>11</th>\n",
       "      <td>Purpose</td>\n",
       "      <td>15</td>\n",
       "      <td>0</td>\n",
       "      <td>category</td>\n",
       "    </tr>\n",
       "    <tr>\n",
       "      <th>12</th>\n",
       "      <td>Term</td>\n",
       "      <td>2</td>\n",
       "      <td>0</td>\n",
       "      <td>category</td>\n",
       "    </tr>\n",
       "    <tr>\n",
       "      <th>13</th>\n",
       "      <td>Current Loan Amount</td>\n",
       "      <td>6786</td>\n",
       "      <td>0</td>\n",
       "      <td>float64</td>\n",
       "    </tr>\n",
       "    <tr>\n",
       "      <th>14</th>\n",
       "      <td>Current Credit Balance</td>\n",
       "      <td>8457</td>\n",
       "      <td>0</td>\n",
       "      <td>float64</td>\n",
       "    </tr>\n",
       "    <tr>\n",
       "      <th>15</th>\n",
       "      <td>Monthly Debt</td>\n",
       "      <td>8677</td>\n",
       "      <td>0</td>\n",
       "      <td>float64</td>\n",
       "    </tr>\n",
       "    <tr>\n",
       "      <th>16</th>\n",
       "      <td>Credit Score</td>\n",
       "      <td>278</td>\n",
       "      <td>0</td>\n",
       "      <td>float64</td>\n",
       "    </tr>\n",
       "    <tr>\n",
       "      <th>17</th>\n",
       "      <td>Credit Default</td>\n",
       "      <td>2</td>\n",
       "      <td>2500</td>\n",
       "      <td>float64</td>\n",
       "    </tr>\n",
       "  </tbody>\n",
       "</table>\n",
       "</div>"
      ],
      "text/plain": [
       "                            name values nancounts      type\n",
       "0                             ID  10000         0     int64\n",
       "1                 Home Ownership      4         0  category\n",
       "2                  Annual Income   7108         0   float64\n",
       "3           Years in current job     11         0  category\n",
       "4                      Tax Liens      9         0  category\n",
       "5        Number of Open Accounts     42         0  category\n",
       "6        Years of Credit History    423         0   float64\n",
       "7            Maximum Open Credit   9073         0   float64\n",
       "8      Number of Credit Problems      9         0  category\n",
       "9   Months since last delinquent     89         0   float64\n",
       "10                  Bankruptcies      6         0  category\n",
       "11                       Purpose     15         0  category\n",
       "12                          Term      2         0  category\n",
       "13           Current Loan Amount   6786         0   float64\n",
       "14        Current Credit Balance   8457         0   float64\n",
       "15                  Monthly Debt   8677         0   float64\n",
       "16                  Credit Score    278         0   float64\n",
       "17                Credit Default      2      2500   float64"
      ]
     },
     "execution_count": 26,
     "metadata": {},
     "output_type": "execute_result"
    }
   ],
   "source": [
    "col_info(df)"
   ]
  },
  {
   "cell_type": "code",
   "execution_count": 27,
   "metadata": {
    "hidden": true
   },
   "outputs": [
    {
     "data": {
      "text/plain": [
       "'\\nt = \"Credit Score\"\\nfor i in [\"Annual Income\",\"Maximum Open Credit\",\"Current Loan Amount\",\"Monthly Debt\"]:\\n    temp = test.groupby([t], as_index= False).agg({ i: [\"mean\"] })\\n    name = f\\'Score_{ i.split()[-1]}\\'\\n    temp.columns = [t, name]\\n    df = df.merge(temp, on = [t], how = \"left\")\\n    df[name] = df[name].fillna(df[name].mean())\\n    df = df[[df.columns[0]] + [df.columns[-1]] + df.columns[1:-1].tolist()]\\n'"
      ]
     },
     "execution_count": 27,
     "metadata": {},
     "output_type": "execute_result"
    }
   ],
   "source": [
    "\"\"\"\n",
    "t = \"Credit Score\"\n",
    "for i in [\"Annual Income\",\"Maximum Open Credit\",\"Current Loan Amount\",\"Monthly Debt\"]:\n",
    "    temp = test.groupby([t], as_index= False).agg({ i: [\"mean\"] })\n",
    "    name = f'Score_{ i.split()[-1]}'\n",
    "    temp.columns = [t, name]\n",
    "    df = df.merge(temp, on = [t], how = \"left\")\n",
    "    df[name] = df[name].fillna(df[name].mean())\n",
    "    df = df[[df.columns[0]] + [df.columns[-1]] + df.columns[1:-1].tolist()]\n",
    "\"\"\""
   ]
  },
  {
   "cell_type": "code",
   "execution_count": 28,
   "metadata": {
    "hidden": true
   },
   "outputs": [
    {
     "data": {
      "text/html": [
       "<div>\n",
       "<style scoped>\n",
       "    .dataframe tbody tr th:only-of-type {\n",
       "        vertical-align: middle;\n",
       "    }\n",
       "\n",
       "    .dataframe tbody tr th {\n",
       "        vertical-align: top;\n",
       "    }\n",
       "\n",
       "    .dataframe thead th {\n",
       "        text-align: right;\n",
       "    }\n",
       "</style>\n",
       "<table border=\"1\" class=\"dataframe\">\n",
       "  <thead>\n",
       "    <tr style=\"text-align: right;\">\n",
       "      <th></th>\n",
       "      <th>ID</th>\n",
       "      <th>Home Ownership</th>\n",
       "      <th>Annual Income</th>\n",
       "      <th>Years in current job</th>\n",
       "      <th>Tax Liens</th>\n",
       "      <th>Number of Open Accounts</th>\n",
       "      <th>Years of Credit History</th>\n",
       "      <th>Maximum Open Credit</th>\n",
       "      <th>Number of Credit Problems</th>\n",
       "      <th>Months since last delinquent</th>\n",
       "      <th>Bankruptcies</th>\n",
       "      <th>Purpose</th>\n",
       "      <th>Term</th>\n",
       "      <th>Current Loan Amount</th>\n",
       "      <th>Current Credit Balance</th>\n",
       "      <th>Monthly Debt</th>\n",
       "      <th>Credit Score</th>\n",
       "      <th>Credit Default</th>\n",
       "    </tr>\n",
       "  </thead>\n",
       "  <tbody>\n",
       "    <tr>\n",
       "      <th>0</th>\n",
       "      <td>0</td>\n",
       "      <td>0</td>\n",
       "      <td>482087.000</td>\n",
       "      <td>0</td>\n",
       "      <td>0</td>\n",
       "      <td>0</td>\n",
       "      <td>26.300</td>\n",
       "      <td>685960.000</td>\n",
       "      <td>0</td>\n",
       "      <td>0.000</td>\n",
       "      <td>0</td>\n",
       "      <td>0</td>\n",
       "      <td>0</td>\n",
       "      <td>309988.802</td>\n",
       "      <td>47386.000</td>\n",
       "      <td>7914.000</td>\n",
       "      <td>749.000</td>\n",
       "      <td>0.000</td>\n",
       "    </tr>\n",
       "    <tr>\n",
       "      <th>1</th>\n",
       "      <td>1</td>\n",
       "      <td>0</td>\n",
       "      <td>1025487.000</td>\n",
       "      <td>0</td>\n",
       "      <td>0</td>\n",
       "      <td>1</td>\n",
       "      <td>15.300</td>\n",
       "      <td>1181730.000</td>\n",
       "      <td>1</td>\n",
       "      <td>0.000</td>\n",
       "      <td>1</td>\n",
       "      <td>0</td>\n",
       "      <td>1</td>\n",
       "      <td>264968.000</td>\n",
       "      <td>394972.000</td>\n",
       "      <td>18373.000</td>\n",
       "      <td>737.000</td>\n",
       "      <td>1.000</td>\n",
       "    </tr>\n",
       "    <tr>\n",
       "      <th>2</th>\n",
       "      <td>2</td>\n",
       "      <td>1</td>\n",
       "      <td>751412.000</td>\n",
       "      <td>1</td>\n",
       "      <td>0</td>\n",
       "      <td>0</td>\n",
       "      <td>35.000</td>\n",
       "      <td>1182434.000</td>\n",
       "      <td>1</td>\n",
       "      <td>0.000</td>\n",
       "      <td>1</td>\n",
       "      <td>0</td>\n",
       "      <td>0</td>\n",
       "      <td>309988.802</td>\n",
       "      <td>308389.000</td>\n",
       "      <td>13651.000</td>\n",
       "      <td>742.000</td>\n",
       "      <td>0.000</td>\n",
       "    </tr>\n",
       "    <tr>\n",
       "      <th>3</th>\n",
       "      <td>3</td>\n",
       "      <td>0</td>\n",
       "      <td>805068.000</td>\n",
       "      <td>2</td>\n",
       "      <td>0</td>\n",
       "      <td>2</td>\n",
       "      <td>22.500</td>\n",
       "      <td>147400.000</td>\n",
       "      <td>0</td>\n",
       "      <td>0.000</td>\n",
       "      <td>0</td>\n",
       "      <td>0</td>\n",
       "      <td>0</td>\n",
       "      <td>121396.000</td>\n",
       "      <td>95855.000</td>\n",
       "      <td>11338.000</td>\n",
       "      <td>694.000</td>\n",
       "      <td>0.000</td>\n",
       "    </tr>\n",
       "    <tr>\n",
       "      <th>4</th>\n",
       "      <td>4</td>\n",
       "      <td>2</td>\n",
       "      <td>776264.000</td>\n",
       "      <td>1</td>\n",
       "      <td>0</td>\n",
       "      <td>3</td>\n",
       "      <td>13.600</td>\n",
       "      <td>385836.000</td>\n",
       "      <td>0</td>\n",
       "      <td>0.000</td>\n",
       "      <td>1</td>\n",
       "      <td>0</td>\n",
       "      <td>0</td>\n",
       "      <td>125840.000</td>\n",
       "      <td>93309.000</td>\n",
       "      <td>7180.000</td>\n",
       "      <td>719.000</td>\n",
       "      <td>0.000</td>\n",
       "    </tr>\n",
       "    <tr>\n",
       "      <th>...</th>\n",
       "      <td>...</td>\n",
       "      <td>...</td>\n",
       "      <td>...</td>\n",
       "      <td>...</td>\n",
       "      <td>...</td>\n",
       "      <td>...</td>\n",
       "      <td>...</td>\n",
       "      <td>...</td>\n",
       "      <td>...</td>\n",
       "      <td>...</td>\n",
       "      <td>...</td>\n",
       "      <td>...</td>\n",
       "      <td>...</td>\n",
       "      <td>...</td>\n",
       "      <td>...</td>\n",
       "      <td>...</td>\n",
       "      <td>...</td>\n",
       "      <td>...</td>\n",
       "    </tr>\n",
       "    <tr>\n",
       "      <th>9995</th>\n",
       "      <td>9995</td>\n",
       "      <td>1</td>\n",
       "      <td>1020053.000</td>\n",
       "      <td>0</td>\n",
       "      <td>0</td>\n",
       "      <td>10</td>\n",
       "      <td>29.100</td>\n",
       "      <td>559152.000</td>\n",
       "      <td>0</td>\n",
       "      <td>68.000</td>\n",
       "      <td>0</td>\n",
       "      <td>0</td>\n",
       "      <td>0</td>\n",
       "      <td>309988.802</td>\n",
       "      <td>162735.000</td>\n",
       "      <td>15046.000</td>\n",
       "      <td>745.000</td>\n",
       "      <td>nan</td>\n",
       "    </tr>\n",
       "    <tr>\n",
       "      <th>9996</th>\n",
       "      <td>9996</td>\n",
       "      <td>1</td>\n",
       "      <td>1366524.510</td>\n",
       "      <td>9</td>\n",
       "      <td>0</td>\n",
       "      <td>1</td>\n",
       "      <td>17.000</td>\n",
       "      <td>1737780.000</td>\n",
       "      <td>1</td>\n",
       "      <td>77.000</td>\n",
       "      <td>1</td>\n",
       "      <td>0</td>\n",
       "      <td>0</td>\n",
       "      <td>468512.000</td>\n",
       "      <td>1439269.000</td>\n",
       "      <td>32996.000</td>\n",
       "      <td>740.000</td>\n",
       "      <td>nan</td>\n",
       "    </tr>\n",
       "    <tr>\n",
       "      <th>9997</th>\n",
       "      <td>9997</td>\n",
       "      <td>1</td>\n",
       "      <td>1171806.000</td>\n",
       "      <td>9</td>\n",
       "      <td>0</td>\n",
       "      <td>41</td>\n",
       "      <td>12.800</td>\n",
       "      <td>1706430.000</td>\n",
       "      <td>1</td>\n",
       "      <td>0.000</td>\n",
       "      <td>1</td>\n",
       "      <td>0</td>\n",
       "      <td>0</td>\n",
       "      <td>430496.000</td>\n",
       "      <td>676438.000</td>\n",
       "      <td>36912.000</td>\n",
       "      <td>695.000</td>\n",
       "      <td>nan</td>\n",
       "    </tr>\n",
       "    <tr>\n",
       "      <th>9998</th>\n",
       "      <td>9998</td>\n",
       "      <td>2</td>\n",
       "      <td>723520.000</td>\n",
       "      <td>0</td>\n",
       "      <td>0</td>\n",
       "      <td>10</td>\n",
       "      <td>28.800</td>\n",
       "      <td>945780.000</td>\n",
       "      <td>1</td>\n",
       "      <td>0.000</td>\n",
       "      <td>1</td>\n",
       "      <td>0</td>\n",
       "      <td>0</td>\n",
       "      <td>257774.000</td>\n",
       "      <td>391248.000</td>\n",
       "      <td>13506.000</td>\n",
       "      <td>744.000</td>\n",
       "      <td>nan</td>\n",
       "    </tr>\n",
       "    <tr>\n",
       "      <th>9999</th>\n",
       "      <td>9999</td>\n",
       "      <td>2</td>\n",
       "      <td>1694439.000</td>\n",
       "      <td>0</td>\n",
       "      <td>0</td>\n",
       "      <td>4</td>\n",
       "      <td>18.400</td>\n",
       "      <td>1199748.000</td>\n",
       "      <td>0</td>\n",
       "      <td>72.000</td>\n",
       "      <td>1</td>\n",
       "      <td>0</td>\n",
       "      <td>1</td>\n",
       "      <td>763004.000</td>\n",
       "      <td>559531.000</td>\n",
       "      <td>23440.000</td>\n",
       "      <td>6820.000</td>\n",
       "      <td>nan</td>\n",
       "    </tr>\n",
       "  </tbody>\n",
       "</table>\n",
       "<p>10000 rows × 18 columns</p>\n",
       "</div>"
      ],
      "text/plain": [
       "        ID Home Ownership  Annual Income Years in current job Tax Liens  \\\n",
       "0        0              0     482087.000                    0         0   \n",
       "1        1              0    1025487.000                    0         0   \n",
       "2        2              1     751412.000                    1         0   \n",
       "3        3              0     805068.000                    2         0   \n",
       "4        4              2     776264.000                    1         0   \n",
       "...    ...            ...            ...                  ...       ...   \n",
       "9995  9995              1    1020053.000                    0         0   \n",
       "9996  9996              1    1366524.510                    9         0   \n",
       "9997  9997              1    1171806.000                    9         0   \n",
       "9998  9998              2     723520.000                    0         0   \n",
       "9999  9999              2    1694439.000                    0         0   \n",
       "\n",
       "     Number of Open Accounts  Years of Credit History  Maximum Open Credit  \\\n",
       "0                          0                   26.300           685960.000   \n",
       "1                          1                   15.300          1181730.000   \n",
       "2                          0                   35.000          1182434.000   \n",
       "3                          2                   22.500           147400.000   \n",
       "4                          3                   13.600           385836.000   \n",
       "...                      ...                      ...                  ...   \n",
       "9995                      10                   29.100           559152.000   \n",
       "9996                       1                   17.000          1737780.000   \n",
       "9997                      41                   12.800          1706430.000   \n",
       "9998                      10                   28.800           945780.000   \n",
       "9999                       4                   18.400          1199748.000   \n",
       "\n",
       "     Number of Credit Problems  Months since last delinquent Bankruptcies  \\\n",
       "0                            0                         0.000            0   \n",
       "1                            1                         0.000            1   \n",
       "2                            1                         0.000            1   \n",
       "3                            0                         0.000            0   \n",
       "4                            0                         0.000            1   \n",
       "...                        ...                           ...          ...   \n",
       "9995                         0                        68.000            0   \n",
       "9996                         1                        77.000            1   \n",
       "9997                         1                         0.000            1   \n",
       "9998                         1                         0.000            1   \n",
       "9999                         0                        72.000            1   \n",
       "\n",
       "     Purpose Term  Current Loan Amount  Current Credit Balance  Monthly Debt  \\\n",
       "0          0    0           309988.802               47386.000      7914.000   \n",
       "1          0    1           264968.000              394972.000     18373.000   \n",
       "2          0    0           309988.802              308389.000     13651.000   \n",
       "3          0    0           121396.000               95855.000     11338.000   \n",
       "4          0    0           125840.000               93309.000      7180.000   \n",
       "...      ...  ...                  ...                     ...           ...   \n",
       "9995       0    0           309988.802              162735.000     15046.000   \n",
       "9996       0    0           468512.000             1439269.000     32996.000   \n",
       "9997       0    0           430496.000              676438.000     36912.000   \n",
       "9998       0    0           257774.000              391248.000     13506.000   \n",
       "9999       0    1           763004.000              559531.000     23440.000   \n",
       "\n",
       "      Credit Score  Credit Default  \n",
       "0          749.000           0.000  \n",
       "1          737.000           1.000  \n",
       "2          742.000           0.000  \n",
       "3          694.000           0.000  \n",
       "4          719.000           0.000  \n",
       "...            ...             ...  \n",
       "9995       745.000             nan  \n",
       "9996       740.000             nan  \n",
       "9997       695.000             nan  \n",
       "9998       744.000             nan  \n",
       "9999      6820.000             nan  \n",
       "\n",
       "[10000 rows x 18 columns]"
      ]
     },
     "execution_count": 28,
     "metadata": {},
     "output_type": "execute_result"
    }
   ],
   "source": [
    "df\n"
   ]
  },
  {
   "cell_type": "code",
   "execution_count": null,
   "metadata": {
    "hidden": true
   },
   "outputs": [],
   "source": []
  },
  {
   "cell_type": "code",
   "execution_count": null,
   "metadata": {
    "hidden": true
   },
   "outputs": [],
   "source": []
  },
  {
   "cell_type": "code",
   "execution_count": null,
   "metadata": {
    "hidden": true
   },
   "outputs": [],
   "source": []
  },
  {
   "cell_type": "code",
   "execution_count": null,
   "metadata": {
    "hidden": true
   },
   "outputs": [],
   "source": []
  },
  {
   "cell_type": "code",
   "execution_count": null,
   "metadata": {
    "hidden": true
   },
   "outputs": [],
   "source": []
  },
  {
   "cell_type": "code",
   "execution_count": null,
   "metadata": {
    "hidden": true
   },
   "outputs": [],
   "source": []
  },
  {
   "cell_type": "code",
   "execution_count": null,
   "metadata": {
    "hidden": true
   },
   "outputs": [],
   "source": []
  },
  {
   "cell_type": "code",
   "execution_count": null,
   "metadata": {
    "hidden": true
   },
   "outputs": [],
   "source": []
  },
  {
   "cell_type": "code",
   "execution_count": null,
   "metadata": {
    "hidden": true
   },
   "outputs": [],
   "source": []
  },
  {
   "cell_type": "markdown",
   "metadata": {
    "heading_collapsed": true
   },
   "source": [
    "# Learning preparing"
   ]
  },
  {
   "cell_type": "code",
   "execution_count": 29,
   "metadata": {
    "hidden": true
   },
   "outputs": [],
   "source": [
    "def balance_df_by_target(df, target_name):\n",
    "\n",
    "    target_counts = df[target_name].value_counts()\n",
    "\n",
    "    major_class_name = target_counts.argmax()\n",
    "    minor_class_name = target_counts.argmin()\n",
    "\n",
    "    disbalance_coeff = int(target_counts[major_class_name] / target_counts[minor_class_name]) - 1\n",
    "\n",
    "    for i in range(disbalance_coeff):\n",
    "        sample = df[df[target_name] == minor_class_name].sample(target_counts[minor_class_name])\n",
    "        df = df.append(sample, ignore_index=True)\n",
    "\n",
    "    return df.sample(frac=1) "
   ]
  },
  {
   "cell_type": "code",
   "execution_count": 30,
   "metadata": {
    "hidden": true
   },
   "outputs": [],
   "source": [
    "TARGET_NAME = 'Credit Default'\n",
    "NUM_FEATURE_NAMES = ['Annual Income', 'Years of Credit History', 'Maximum Open Credit',\n",
    "       'Current Loan Amount', 'Current Credit Balance', 'Monthly Debt',\n",
    "       'Credit Score','Months since last delinquent']\n",
    "\n",
    "CAT_FEATURE_NAMES = ['Home Ownership', 'Years in current job', 'Number of Open Accounts',\n",
    "       'Bankruptcies', 'Purpose', 'Term',]\n",
    "SELECTED_FEATURE_NAMES = NUM_FEATURE_NAMES + CAT_FEATURE_NAMES"
   ]
  },
  {
   "cell_type": "code",
   "execution_count": 31,
   "metadata": {
    "hidden": true
   },
   "outputs": [],
   "source": [
    "scaler = StandardScaler()\n",
    "\n",
    "df_norm = df.copy()\n",
    "df_norm[NUM_FEATURE_NAMES] = scaler.fit_transform(df_norm[NUM_FEATURE_NAMES])\n",
    "\n",
    "df = df_norm.copy()"
   ]
  },
  {
   "cell_type": "code",
   "execution_count": 32,
   "metadata": {
    "hidden": true
   },
   "outputs": [],
   "source": [
    "train_df = df[:7500].copy()\n",
    "test_df = df[7500:].copy()"
   ]
  },
  {
   "cell_type": "code",
   "execution_count": null,
   "metadata": {
    "hidden": true
   },
   "outputs": [],
   "source": []
  },
  {
   "cell_type": "code",
   "execution_count": 33,
   "metadata": {
    "hidden": true
   },
   "outputs": [],
   "source": [
    "X = train_df[SELECTED_FEATURE_NAMES]\n",
    "y = train_df[TARGET_NAME]\n",
    "\n",
    "X_train, X_test, y_train, y_test = train_test_split(X, y, shuffle=True, test_size=0.25, random_state=21)"
   ]
  },
  {
   "cell_type": "code",
   "execution_count": 34,
   "metadata": {
    "hidden": true
   },
   "outputs": [
    {
     "data": {
      "text/plain": [
       "0.000    4046\n",
       "1.000    1579\n",
       "Name: Credit Default, dtype: int64"
      ]
     },
     "execution_count": 34,
     "metadata": {},
     "output_type": "execute_result"
    }
   ],
   "source": [
    "df_for_balancing = pd.concat([X_train, y_train], axis=1)\n",
    "df_for_balancing[TARGET_NAME].value_counts()"
   ]
  },
  {
   "cell_type": "code",
   "execution_count": 35,
   "metadata": {
    "hidden": true
   },
   "outputs": [
    {
     "data": {
      "text/plain": [
       "0.000    4046\n",
       "1.000    3158\n",
       "Name: Credit Default, dtype: int64"
      ]
     },
     "execution_count": 35,
     "metadata": {},
     "output_type": "execute_result"
    }
   ],
   "source": [
    "df_balanced = balance_df_by_target(df_for_balancing, TARGET_NAME)\n",
    "df_balanced[TARGET_NAME].value_counts()"
   ]
  },
  {
   "cell_type": "code",
   "execution_count": 36,
   "metadata": {
    "hidden": true
   },
   "outputs": [],
   "source": [
    "X_train = df_balanced.drop(columns=TARGET_NAME)\n",
    "y_train = df_balanced[TARGET_NAME]"
   ]
  },
  {
   "cell_type": "code",
   "execution_count": 37,
   "metadata": {
    "hidden": true
   },
   "outputs": [
    {
     "data": {
      "text/html": [
       "<div>\n",
       "<style scoped>\n",
       "    .dataframe tbody tr th:only-of-type {\n",
       "        vertical-align: middle;\n",
       "    }\n",
       "\n",
       "    .dataframe tbody tr th {\n",
       "        vertical-align: top;\n",
       "    }\n",
       "\n",
       "    .dataframe thead th {\n",
       "        text-align: right;\n",
       "    }\n",
       "</style>\n",
       "<table border=\"1\" class=\"dataframe\">\n",
       "  <thead>\n",
       "    <tr style=\"text-align: right;\">\n",
       "      <th></th>\n",
       "      <th>Annual Income</th>\n",
       "      <th>Years of Credit History</th>\n",
       "      <th>Maximum Open Credit</th>\n",
       "      <th>Current Loan Amount</th>\n",
       "      <th>Current Credit Balance</th>\n",
       "      <th>Monthly Debt</th>\n",
       "      <th>Credit Score</th>\n",
       "      <th>Months since last delinquent</th>\n",
       "      <th>Home Ownership</th>\n",
       "      <th>Years in current job</th>\n",
       "      <th>Number of Open Accounts</th>\n",
       "      <th>Bankruptcies</th>\n",
       "      <th>Purpose</th>\n",
       "      <th>Term</th>\n",
       "    </tr>\n",
       "  </thead>\n",
       "  <tbody>\n",
       "    <tr>\n",
       "      <th>5054</th>\n",
       "      <td>0.000</td>\n",
       "      <td>-0.581</td>\n",
       "      <td>2.788</td>\n",
       "      <td>0.938</td>\n",
       "      <td>4.423</td>\n",
       "      <td>1.914</td>\n",
       "      <td>-0.233</td>\n",
       "      <td>-0.696</td>\n",
       "      <td>1</td>\n",
       "      <td>9</td>\n",
       "      <td>15</td>\n",
       "      <td>1</td>\n",
       "      <td>0</td>\n",
       "      <td>0</td>\n",
       "    </tr>\n",
       "    <tr>\n",
       "      <th>1859</th>\n",
       "      <td>-0.664</td>\n",
       "      <td>-0.186</td>\n",
       "      <td>-0.183</td>\n",
       "      <td>0.251</td>\n",
       "      <td>-0.020</td>\n",
       "      <td>0.297</td>\n",
       "      <td>-0.258</td>\n",
       "      <td>1.336</td>\n",
       "      <td>2</td>\n",
       "      <td>6</td>\n",
       "      <td>9</td>\n",
       "      <td>1</td>\n",
       "      <td>0</td>\n",
       "      <td>0</td>\n",
       "    </tr>\n",
       "    <tr>\n",
       "      <th>5095</th>\n",
       "      <td>0.946</td>\n",
       "      <td>-0.045</td>\n",
       "      <td>1.638</td>\n",
       "      <td>2.775</td>\n",
       "      <td>1.298</td>\n",
       "      <td>1.447</td>\n",
       "      <td>4.214</td>\n",
       "      <td>1.026</td>\n",
       "      <td>2</td>\n",
       "      <td>7</td>\n",
       "      <td>6</td>\n",
       "      <td>1</td>\n",
       "      <td>0</td>\n",
       "      <td>1</td>\n",
       "    </tr>\n",
       "    <tr>\n",
       "      <th>3494</th>\n",
       "      <td>-0.778</td>\n",
       "      <td>-0.256</td>\n",
       "      <td>-0.445</td>\n",
       "      <td>-1.290</td>\n",
       "      <td>-0.356</td>\n",
       "      <td>0.514</td>\n",
       "      <td>-0.273</td>\n",
       "      <td>2.307</td>\n",
       "      <td>2</td>\n",
       "      <td>0</td>\n",
       "      <td>2</td>\n",
       "      <td>0</td>\n",
       "      <td>0</td>\n",
       "      <td>0</td>\n",
       "    </tr>\n",
       "    <tr>\n",
       "      <th>1136</th>\n",
       "      <td>0.000</td>\n",
       "      <td>-1.257</td>\n",
       "      <td>-0.302</td>\n",
       "      <td>0.144</td>\n",
       "      <td>-0.083</td>\n",
       "      <td>0.623</td>\n",
       "      <td>-0.233</td>\n",
       "      <td>-0.431</td>\n",
       "      <td>2</td>\n",
       "      <td>8</td>\n",
       "      <td>12</td>\n",
       "      <td>1</td>\n",
       "      <td>0</td>\n",
       "      <td>0</td>\n",
       "    </tr>\n",
       "    <tr>\n",
       "      <th>...</th>\n",
       "      <td>...</td>\n",
       "      <td>...</td>\n",
       "      <td>...</td>\n",
       "      <td>...</td>\n",
       "      <td>...</td>\n",
       "      <td>...</td>\n",
       "      <td>...</td>\n",
       "      <td>...</td>\n",
       "      <td>...</td>\n",
       "      <td>...</td>\n",
       "      <td>...</td>\n",
       "      <td>...</td>\n",
       "      <td>...</td>\n",
       "      <td>...</td>\n",
       "    </tr>\n",
       "    <tr>\n",
       "      <th>6338</th>\n",
       "      <td>-1.482</td>\n",
       "      <td>-0.383</td>\n",
       "      <td>-0.708</td>\n",
       "      <td>-1.426</td>\n",
       "      <td>-0.752</td>\n",
       "      <td>-1.162</td>\n",
       "      <td>-0.252</td>\n",
       "      <td>2.793</td>\n",
       "      <td>2</td>\n",
       "      <td>0</td>\n",
       "      <td>14</td>\n",
       "      <td>1</td>\n",
       "      <td>4</td>\n",
       "      <td>0</td>\n",
       "    </tr>\n",
       "    <tr>\n",
       "      <th>2848</th>\n",
       "      <td>0.000</td>\n",
       "      <td>0.801</td>\n",
       "      <td>0.928</td>\n",
       "      <td>1.532</td>\n",
       "      <td>1.297</td>\n",
       "      <td>-0.162</td>\n",
       "      <td>-0.233</td>\n",
       "      <td>-0.696</td>\n",
       "      <td>0</td>\n",
       "      <td>0</td>\n",
       "      <td>5</td>\n",
       "      <td>1</td>\n",
       "      <td>0</td>\n",
       "      <td>1</td>\n",
       "    </tr>\n",
       "    <tr>\n",
       "      <th>4451</th>\n",
       "      <td>1.578</td>\n",
       "      <td>-0.369</td>\n",
       "      <td>-0.425</td>\n",
       "      <td>1.290</td>\n",
       "      <td>-0.277</td>\n",
       "      <td>3.088</td>\n",
       "      <td>-0.229</td>\n",
       "      <td>2.307</td>\n",
       "      <td>1</td>\n",
       "      <td>7</td>\n",
       "      <td>26</td>\n",
       "      <td>0</td>\n",
       "      <td>0</td>\n",
       "      <td>0</td>\n",
       "    </tr>\n",
       "    <tr>\n",
       "      <th>6610</th>\n",
       "      <td>1.130</td>\n",
       "      <td>1.872</td>\n",
       "      <td>0.470</td>\n",
       "      <td>2.597</td>\n",
       "      <td>0.290</td>\n",
       "      <td>1.256</td>\n",
       "      <td>4.044</td>\n",
       "      <td>-0.696</td>\n",
       "      <td>1</td>\n",
       "      <td>0</td>\n",
       "      <td>6</td>\n",
       "      <td>0</td>\n",
       "      <td>0</td>\n",
       "      <td>0</td>\n",
       "    </tr>\n",
       "    <tr>\n",
       "      <th>4371</th>\n",
       "      <td>-0.479</td>\n",
       "      <td>-1.666</td>\n",
       "      <td>-0.380</td>\n",
       "      <td>-0.641</td>\n",
       "      <td>-0.412</td>\n",
       "      <td>-0.872</td>\n",
       "      <td>-0.231</td>\n",
       "      <td>-0.696</td>\n",
       "      <td>2</td>\n",
       "      <td>8</td>\n",
       "      <td>2</td>\n",
       "      <td>1</td>\n",
       "      <td>0</td>\n",
       "      <td>0</td>\n",
       "    </tr>\n",
       "  </tbody>\n",
       "</table>\n",
       "<p>7204 rows × 14 columns</p>\n",
       "</div>"
      ],
      "text/plain": [
       "      Annual Income  Years of Credit History  Maximum Open Credit  \\\n",
       "5054          0.000                   -0.581                2.788   \n",
       "1859         -0.664                   -0.186               -0.183   \n",
       "5095          0.946                   -0.045                1.638   \n",
       "3494         -0.778                   -0.256               -0.445   \n",
       "1136          0.000                   -1.257               -0.302   \n",
       "...             ...                      ...                  ...   \n",
       "6338         -1.482                   -0.383               -0.708   \n",
       "2848          0.000                    0.801                0.928   \n",
       "4451          1.578                   -0.369               -0.425   \n",
       "6610          1.130                    1.872                0.470   \n",
       "4371         -0.479                   -1.666               -0.380   \n",
       "\n",
       "      Current Loan Amount  Current Credit Balance  Monthly Debt  Credit Score  \\\n",
       "5054                0.938                   4.423         1.914        -0.233   \n",
       "1859                0.251                  -0.020         0.297        -0.258   \n",
       "5095                2.775                   1.298         1.447         4.214   \n",
       "3494               -1.290                  -0.356         0.514        -0.273   \n",
       "1136                0.144                  -0.083         0.623        -0.233   \n",
       "...                   ...                     ...           ...           ...   \n",
       "6338               -1.426                  -0.752        -1.162        -0.252   \n",
       "2848                1.532                   1.297        -0.162        -0.233   \n",
       "4451                1.290                  -0.277         3.088        -0.229   \n",
       "6610                2.597                   0.290         1.256         4.044   \n",
       "4371               -0.641                  -0.412        -0.872        -0.231   \n",
       "\n",
       "      Months since last delinquent Home Ownership Years in current job  \\\n",
       "5054                        -0.696              1                    9   \n",
       "1859                         1.336              2                    6   \n",
       "5095                         1.026              2                    7   \n",
       "3494                         2.307              2                    0   \n",
       "1136                        -0.431              2                    8   \n",
       "...                            ...            ...                  ...   \n",
       "6338                         2.793              2                    0   \n",
       "2848                        -0.696              0                    0   \n",
       "4451                         2.307              1                    7   \n",
       "6610                        -0.696              1                    0   \n",
       "4371                        -0.696              2                    8   \n",
       "\n",
       "     Number of Open Accounts Bankruptcies Purpose Term  \n",
       "5054                      15            1       0    0  \n",
       "1859                       9            1       0    0  \n",
       "5095                       6            1       0    1  \n",
       "3494                       2            0       0    0  \n",
       "1136                      12            1       0    0  \n",
       "...                      ...          ...     ...  ...  \n",
       "6338                      14            1       4    0  \n",
       "2848                       5            1       0    1  \n",
       "4451                      26            0       0    0  \n",
       "6610                       6            0       0    0  \n",
       "4371                       2            1       0    0  \n",
       "\n",
       "[7204 rows x 14 columns]"
      ]
     },
     "execution_count": 37,
     "metadata": {},
     "output_type": "execute_result"
    }
   ],
   "source": [
    "X_train"
   ]
  },
  {
   "cell_type": "markdown",
   "metadata": {
    "heading_collapsed": true
   },
   "source": [
    "# Learning"
   ]
  },
  {
   "cell_type": "markdown",
   "metadata": {
    "heading_collapsed": true,
    "hidden": true
   },
   "source": [
    "## Catboost"
   ]
  },
  {
   "cell_type": "code",
   "execution_count": 38,
   "metadata": {
    "hidden": true
   },
   "outputs": [],
   "source": [
    "def get_classification_report(y_train_true, y_train_pred, y_test_true, y_test_pred):\n",
    "    from sklearn.metrics import classification_report, f1_score, precision_score, recall_score\n",
    "    print('TRAIN\\n\\n' + classification_report(y_train_true, y_train_pred))\n",
    "    print('TEST\\n\\n' + classification_report(y_test_true, y_test_pred))\n",
    "    print('CONFUSION MATRIX\\n')\n",
    "    print(pd.crosstab(y_test_true, y_test_pred))"
   ]
  },
  {
   "cell_type": "code",
   "execution_count": 39,
   "metadata": {
    "hidden": true
   },
   "outputs": [
    {
     "name": "stdout",
     "output_type": "stream",
     "text": [
      "0.8845710521982546\n",
      "0.5112016293279023\n",
      "\n",
      "TRAIN\n",
      "\n",
      "              precision    recall  f1-score   support\n",
      "\n",
      "         0.0       0.89      0.94      0.92      4046\n",
      "         1.0       0.92      0.85      0.88      3158\n",
      "\n",
      "   micro avg       0.90      0.90      0.90      7204\n",
      "   macro avg       0.91      0.90      0.90      7204\n",
      "weighted avg       0.90      0.90      0.90      7204\n",
      "\n",
      "TEST\n",
      "\n",
      "              precision    recall  f1-score   support\n",
      "\n",
      "         0.0       0.80      0.85      0.83      1341\n",
      "         1.0       0.56      0.47      0.51       534\n",
      "\n",
      "   micro avg       0.74      0.74      0.74      1875\n",
      "   macro avg       0.68      0.66      0.67      1875\n",
      "weighted avg       0.73      0.74      0.74      1875\n",
      "\n",
      "CONFUSION MATRIX\n",
      "\n",
      "col_0           0.000  1.000\n",
      "Credit Default              \n",
      "0.000            1144    197\n",
      "1.000             283    251\n"
     ]
    }
   ],
   "source": [
    "from catboost import Pool, CatBoost,CatBoostClassifier\n",
    "\n",
    "cat_feats = [X_train.columns.get_loc(col) for col in X_train.select_dtypes(include='category').columns]\n",
    "\n",
    "train_pool = Pool(X_train.values,y_train.values,cat_features = cat_feats )\n",
    "test_pool = Pool(X_test.values, cat_features = cat_feats) \n",
    "\n",
    "\n",
    "\n",
    "model = CatBoostClassifier(\n",
    "                    random_state=21,\n",
    "                    silent=True)\n",
    "model.fit(train_pool)\n",
    "\n",
    "\n",
    "y_train_pred = model.predict(X_train)\n",
    "y_test_pred = model.predict(X_test)\n",
    "print(f1_score(y_train, y_train_pred ))\n",
    "print(f1_score(y_test, y_test_pred))\n",
    "print()\n",
    "\n",
    "get_classification_report(y_train, y_train_pred, y_test, y_test_pred)"
   ]
  },
  {
   "cell_type": "markdown",
   "metadata": {
    "heading_collapsed": true,
    "hidden": true
   },
   "source": [
    "## LightGMB"
   ]
  },
  {
   "cell_type": "code",
   "execution_count": 40,
   "metadata": {
    "hidden": true
   },
   "outputs": [],
   "source": [
    "import lightgbm as lgbm"
   ]
  },
  {
   "cell_type": "code",
   "execution_count": 41,
   "metadata": {
    "hidden": true
   },
   "outputs": [
    {
     "name": "stdout",
     "output_type": "stream",
     "text": [
      "TRAIN\n",
      "\n",
      "              precision    recall  f1-score   support\n",
      "\n",
      "         0.0       0.92      0.97      0.95      4046\n",
      "         1.0       0.96      0.90      0.93      3158\n",
      "\n",
      "   micro avg       0.94      0.94      0.94      7204\n",
      "   macro avg       0.94      0.93      0.94      7204\n",
      "weighted avg       0.94      0.94      0.94      7204\n",
      "\n",
      "TEST\n",
      "\n",
      "              precision    recall  f1-score   support\n",
      "\n",
      "         0.0       0.79      0.85      0.82      1341\n",
      "         1.0       0.54      0.45      0.49       534\n",
      "\n",
      "   micro avg       0.73      0.73      0.73      1875\n",
      "   macro avg       0.67      0.65      0.66      1875\n",
      "weighted avg       0.72      0.73      0.73      1875\n",
      "\n",
      "CONFUSION MATRIX\n",
      "\n",
      "col_0           0.000  1.000\n",
      "Credit Default              \n",
      "0.000            1139    202\n",
      "1.000             295    239\n"
     ]
    }
   ],
   "source": [
    "model_lgbm = lgbm.LGBMClassifier(random_state=21)\n",
    "model_lgbm.fit(X_train, y_train)\n",
    "\n",
    "y_train_pred = model_lgbm.predict(X_train)\n",
    "y_test_pred = model_lgbm.predict(X_test)\n",
    "\n",
    "get_classification_report(y_train, y_train_pred, y_test, y_test_pred)"
   ]
  },
  {
   "cell_type": "markdown",
   "metadata": {
    "heading_collapsed": true,
    "hidden": true
   },
   "source": [
    "## XGBoost"
   ]
  },
  {
   "cell_type": "code",
   "execution_count": 42,
   "metadata": {
    "hidden": true
   },
   "outputs": [],
   "source": [
    "import xgboost as xgb"
   ]
  },
  {
   "cell_type": "code",
   "execution_count": 43,
   "metadata": {
    "hidden": true
   },
   "outputs": [],
   "source": [
    "def XG_cat (X,y):\n",
    "\n",
    "    for cat_colname in X.select_dtypes(include='category').columns:\n",
    "            X = pd.concat([X, pd.get_dummies(X[cat_colname], prefix=cat_colname).\n",
    "                            astype('int64')],axis=1)\n",
    "            X = X.drop(cat_colname,axis = 'columns')\n",
    "        \n",
    "    X_train, X_test, y_train, y_test = train_test_split(X, y, shuffle=True, test_size=0.25, random_state=21)\n",
    "    df_for_balancing = pd.concat([X_train, y_train], axis=1)\n",
    "    df_for_balancing[TARGET_NAME].value_counts()\n",
    "    df_balanced = balance_df_by_target(df_for_balancing, TARGET_NAME)\n",
    "    df_balanced[TARGET_NAME].value_counts()\n",
    "    X_train = df_balanced.drop(columns=TARGET_NAME)\n",
    "    y_train = df_balanced[TARGET_NAME]\n",
    "    return X_train, y_train, X_test, y_test"
   ]
  },
  {
   "cell_type": "code",
   "execution_count": 44,
   "metadata": {
    "hidden": true
   },
   "outputs": [],
   "source": [
    "X_trainXG, y_trainXG, X_testXG, y_testXG = XG_cat (X,y)"
   ]
  },
  {
   "cell_type": "code",
   "execution_count": 45,
   "metadata": {
    "hidden": true
   },
   "outputs": [
    {
     "name": "stdout",
     "output_type": "stream",
     "text": [
      "TRAIN\n",
      "\n",
      "              precision    recall  f1-score   support\n",
      "\n",
      "         0.0       0.72      0.88      0.79      4046\n",
      "         1.0       0.79      0.57      0.66      3158\n",
      "\n",
      "   micro avg       0.74      0.74      0.74      7204\n",
      "   macro avg       0.75      0.72      0.73      7204\n",
      "weighted avg       0.75      0.74      0.73      7204\n",
      "\n",
      "TEST\n",
      "\n",
      "              precision    recall  f1-score   support\n",
      "\n",
      "         0.0       0.80      0.84      0.82      1341\n",
      "         1.0       0.55      0.48      0.51       534\n",
      "\n",
      "   micro avg       0.74      0.74      0.74      1875\n",
      "   macro avg       0.68      0.66      0.67      1875\n",
      "weighted avg       0.73      0.74      0.73      1875\n",
      "\n",
      "CONFUSION MATRIX\n",
      "\n",
      "col_0           0.000  1.000\n",
      "Credit Default              \n",
      "0.000            1131    210\n",
      "1.000             277    257\n"
     ]
    }
   ],
   "source": [
    "model_xgb = xgb.XGBClassifier(random_state=21)\n",
    "model_xgb.fit(X_trainXG, y_trainXG)\n",
    "\n",
    "y_train_pred = model_xgb.predict(X_trainXG)\n",
    "y_test_pred = model_xgb.predict(X_testXG)\n",
    "\n",
    "get_classification_report(y_trainXG, y_train_pred, y_testXG, y_test_pred)"
   ]
  },
  {
   "cell_type": "markdown",
   "metadata": {
    "heading_collapsed": true
   },
   "source": [
    "# Best Param LiteGB"
   ]
  },
  {
   "cell_type": "code",
   "execution_count": 46,
   "metadata": {
    "hidden": true
   },
   "outputs": [],
   "source": [
    "from sklearn.model_selection import KFold, GridSearchCV, RandomizedSearchCV"
   ]
  },
  {
   "cell_type": "code",
   "execution_count": 47,
   "metadata": {
    "hidden": true
   },
   "outputs": [],
   "source": [
    "model = lgbm.LGBMClassifier( silent=True,\n",
    "                                  random_state=21,\n",
    "                                  n_estimators=  480,)\n",
    "\n",
    "# CatBoostClassifier(class_weights=[1, 2], silent=True, random_state=21 ,cat_features = cat_feats)"
   ]
  },
  {
   "cell_type": "code",
   "execution_count": 48,
   "metadata": {
    "hidden": true
   },
   "outputs": [],
   "source": [
    "params = {'n_estimators': list(range(300,1000,20)),\n",
    "          'max_depth': list(range(7,30,2)),'learning_rate' : np.arange(0.01,1,0.01)}"
   ]
  },
  {
   "cell_type": "code",
   "execution_count": 49,
   "metadata": {
    "hidden": true
   },
   "outputs": [],
   "source": [
    "cv = KFold(n_splits=4, random_state=21, shuffle=True)"
   ]
  },
  {
   "cell_type": "code",
   "execution_count": 50,
   "metadata": {
    "hidden": true
   },
   "outputs": [
    {
     "data": {
      "text/plain": [
       "RandomizedSearchCV(cv=KFold(n_splits=4, random_state=21, shuffle=True),\n",
       "          error_score='raise-deprecating',\n",
       "          estimator=LGBMClassifier(boosting_type='gbdt', class_weight=None, colsample_bytree=1.0,\n",
       "        importance_type='split', learning_rate=0.1, max_depth=-1,\n",
       "        min_child_samples=20, min_child_weight=0.001, min_split_gain=0.0,\n",
       "        n_estimators=480, n_jobs=-1, num_leaves=31, objective=None,\n",
       "        random_state=21, reg_alpha=0.0, reg_lambda=0.0, silent=True,\n",
       "        subsample=1.0, subsample_for_bin=200000, subsample_freq=0),\n",
       "          fit_params=None, iid='warn', n_iter=10, n_jobs=-1,\n",
       "          param_distributions={'n_estimators': [300, 320, 340, 360, 380, 400, 420, 440, 460, 480, 500, 520, 540, 560, 580, 600, 620, 640, 660, 680, 700, 720, 740, 760, 780, 800, 820, 840, 860, 880, 900, 920, 940, 960, 980], 'max_depth': [7, 9, 11, 13, 15, 17, 19, 21, 23, 25, 27, 29], 'learning_rate': array([0.01, 0.02, ..., 0.98, 0.99])},\n",
       "          pre_dispatch='2*n_jobs', random_state=None, refit=True,\n",
       "          return_train_score='warn', scoring='f1', verbose=0)"
      ]
     },
     "execution_count": 50,
     "metadata": {},
     "output_type": "execute_result"
    }
   ],
   "source": [
    "rs = RandomizedSearchCV(model, params, scoring='f1', cv=cv, n_jobs=-1)\n",
    "rs.fit(X_train, y_train)"
   ]
  },
  {
   "cell_type": "code",
   "execution_count": 51,
   "metadata": {
    "hidden": true
   },
   "outputs": [
    {
     "data": {
      "text/plain": [
       "0.8479281729393411"
      ]
     },
     "execution_count": 51,
     "metadata": {},
     "output_type": "execute_result"
    }
   ],
   "source": [
    "rs.best_score_"
   ]
  },
  {
   "cell_type": "code",
   "execution_count": 52,
   "metadata": {
    "hidden": true
   },
   "outputs": [
    {
     "data": {
      "text/plain": [
       "{'n_estimators': 620, 'max_depth': 23, 'learning_rate': 0.21000000000000002}"
      ]
     },
     "execution_count": 52,
     "metadata": {},
     "output_type": "execute_result"
    }
   ],
   "source": [
    "rs.best_params_"
   ]
  },
  {
   "cell_type": "code",
   "execution_count": 53,
   "metadata": {
    "hidden": true
   },
   "outputs": [
    {
     "data": {
      "text/plain": [
       "0.8447590344837304"
      ]
     },
     "execution_count": 53,
     "metadata": {},
     "output_type": "execute_result"
    }
   ],
   "source": [
    "0.8447590344837304"
   ]
  },
  {
   "cell_type": "markdown",
   "metadata": {
    "heading_collapsed": true,
    "hidden": true
   },
   "source": [
    "## tools from lessons"
   ]
  },
  {
   "cell_type": "code",
   "execution_count": 54,
   "metadata": {
    "hidden": true
   },
   "outputs": [],
   "source": [
    "from sklearn.model_selection import train_test_split, ShuffleSplit, cross_val_score, learning_curve\n",
    "from sklearn.metrics import classification_report, f1_score, precision_score, recall_score"
   ]
  },
  {
   "cell_type": "code",
   "execution_count": 55,
   "metadata": {
    "hidden": true
   },
   "outputs": [],
   "source": [
    "def show_feature_importances(feature_names, feature_importances, get_top=None):\n",
    "    feature_importances = pd.DataFrame({'feature': feature_names, 'importance': feature_importances})\n",
    "    feature_importances = feature_importances.sort_values('importance', ascending=False)\n",
    "       \n",
    "    plt.figure(figsize = (20, len(feature_importances) * 0.355))\n",
    "    \n",
    "    sns.barplot(feature_importances['importance'], feature_importances['feature'])\n",
    "    \n",
    "    plt.xlabel('Importance')\n",
    "    plt.title('Importance of features')\n",
    "    plt.show()\n",
    "    \n",
    "    if get_top is not None:\n",
    "        return feature_importances['feature'][:get_top].tolist()"
   ]
  },
  {
   "cell_type": "code",
   "execution_count": 56,
   "metadata": {
    "hidden": true
   },
   "outputs": [],
   "source": [
    "def show_proba_calibration_plots(y_predicted_probs, y_true_labels):\n",
    "    preds_with_true_labels = np.array(list(zip(y_predicted_probs, y_true_labels)))\n",
    "\n",
    "    thresholds = []\n",
    "    precisions = []\n",
    "    recalls = []\n",
    "    f1_scores = []\n",
    "\n",
    "    for threshold in np.linspace(0.1, 0.9, 9):\n",
    "        thresholds.append(threshold)\n",
    "        precisions.append(precision_score(y_true_labels, list(map(int, y_predicted_probs > threshold))))\n",
    "        recalls.append(recall_score(y_true_labels, list(map(int, y_predicted_probs > threshold))))\n",
    "        f1_scores.append(f1_score(y_true_labels, list(map(int, y_predicted_probs > threshold))))\n",
    "\n",
    "    scores_table = pd.DataFrame({'f1':f1_scores,\n",
    "                                 'precision':precisions,\n",
    "                                 'recall':recalls,\n",
    "                                 'probability':thresholds}).sort_values('f1', ascending=False).round(3)\n",
    "  \n",
    "    figure = plt.figure(figsize = (15, 5))\n",
    "\n",
    "    plt1 = figure.add_subplot(121)\n",
    "    plt1.plot(thresholds, precisions, label='Precision', linewidth=4)\n",
    "    plt1.plot(thresholds, recalls, label='Recall', linewidth=4)\n",
    "    plt1.plot(thresholds, f1_scores, label='F1', linewidth=4)\n",
    "    plt1.set_ylabel('Scores')\n",
    "    plt1.set_xlabel('Probability threshold')\n",
    "    plt1.set_title('Probabilities threshold calibration')\n",
    "    plt1.legend(bbox_to_anchor=(0.25, 0.25))   \n",
    "    plt1.table(cellText = scores_table.values,\n",
    "               colLabels = scores_table.columns, \n",
    "               colLoc = 'center', cellLoc = 'center', loc = 'bottom', bbox = [0, -1.3, 1, 1])\n",
    "\n",
    "    plt2 = figure.add_subplot(122)\n",
    "    plt2.hist(preds_with_true_labels[preds_with_true_labels[:, 1] == 0][:, 0], \n",
    "              label='Another class', color='royalblue', alpha=1)\n",
    "    plt2.hist(preds_with_true_labels[preds_with_true_labels[:, 1] == 1][:, 0], \n",
    "              label='Main class', color='darkcyan', alpha=0.8)\n",
    "    plt2.set_ylabel('Number of examples')\n",
    "    plt2.set_xlabel('Probabilities')\n",
    "    plt2.set_title('Probability histogram')\n",
    "    plt2.legend(bbox_to_anchor=(1, 1))\n",
    "\n",
    "    plt.show()"
   ]
  },
  {
   "cell_type": "code",
   "execution_count": 57,
   "metadata": {
    "hidden": true
   },
   "outputs": [],
   "source": [
    "def show_learning_curve_plot(estimator, X, y, cv=3, n_jobs=-1, train_sizes=np.linspace(.1, 1.0, 5)):\n",
    "\n",
    "    train_sizes, train_scores, test_scores = learning_curve(estimator, X, y, \n",
    "                                                            cv=cv, \n",
    "                                                            scoring='f1',\n",
    "                                                            train_sizes=train_sizes, \n",
    "                                                            n_jobs=n_jobs)\n",
    "    train_scores_mean = np.mean(train_scores, axis=1)\n",
    "    train_scores_std = np.std(train_scores, axis=1)\n",
    "    test_scores_mean = np.mean(test_scores, axis=1)\n",
    "    test_scores_std = np.std(test_scores, axis=1)\n",
    "\n",
    "    plt.figure(figsize=(15,8))\n",
    "    plt.fill_between(train_sizes, train_scores_mean - train_scores_std,\n",
    "                     train_scores_mean + train_scores_std, alpha=0.1, color=\"r\")\n",
    "    plt.fill_between(train_sizes, test_scores_mean - test_scores_std,\n",
    "                     test_scores_mean + test_scores_std, alpha=0.1, color=\"g\")\n",
    "    plt.plot(train_sizes, train_scores_mean, 'o-', color=\"r\",\n",
    "             label=\"Training score\")\n",
    "    plt.plot(train_sizes, test_scores_mean, 'o-', color=\"g\",\n",
    "             label=\"Cross-validation score\")\n",
    "\n",
    "    plt.title(f\"Learning curves ({type(estimator).__name__})\")\n",
    "    plt.xlabel(\"Training examples\")\n",
    "    plt.ylabel(\"Score\")     \n",
    "    plt.legend(loc=\"best\")\n",
    "    plt.grid()\n",
    "    plt.show()"
   ]
  },
  {
   "cell_type": "markdown",
   "metadata": {
    "heading_collapsed": true,
    "hidden": true
   },
   "source": [
    "## tuning"
   ]
  },
  {
   "cell_type": "code",
   "execution_count": 58,
   "metadata": {
    "hidden": true
   },
   "outputs": [
    {
     "name": "stdout",
     "output_type": "stream",
     "text": [
      "TRAIN\n",
      "\n",
      "              precision    recall  f1-score   support\n",
      "\n",
      "         0.0       1.00      0.95      0.97      4046\n",
      "         1.0       0.94      1.00      0.97      3158\n",
      "\n",
      "   micro avg       0.97      0.97      0.97      7204\n",
      "   macro avg       0.97      0.97      0.97      7204\n",
      "weighted avg       0.97      0.97      0.97      7204\n",
      "\n",
      "TEST\n",
      "\n",
      "              precision    recall  f1-score   support\n",
      "\n",
      "         0.0       0.81      0.76      0.78      1341\n",
      "         1.0       0.48      0.55      0.51       534\n",
      "\n",
      "   micro avg       0.70      0.70      0.70      1875\n",
      "   macro avg       0.64      0.66      0.65      1875\n",
      "weighted avg       0.71      0.70      0.71      1875\n",
      "\n",
      "CONFUSION MATRIX\n",
      "\n",
      "col_0           0.000  1.000\n",
      "Credit Default              \n",
      "0.000            1021    320\n",
      "1.000             241    293\n"
     ]
    }
   ],
   "source": [
    "final_model = lgbm.LGBMClassifier( silent=True,\n",
    "                                  random_state=21,\n",
    "                                  n_estimators=  100,\n",
    "                                  max_depth= 7,\n",
    "                                  learning_rate= 0.31,\n",
    "                                  lambda_l2 = 6,\n",
    "                                  class_weight={1:2})\n",
    "final_model.fit(X_train, y_train)\n",
    "y_train_pred = final_model.predict(X_train)\n",
    "y_test_pred = final_model.predict(X_test)\n",
    "y_test_pred_probs = final_model.predict_proba(X_test)\n",
    "get_classification_report(y_train, y_train_pred, y_test, y_test_pred)\n"
   ]
  },
  {
   "cell_type": "code",
   "execution_count": 59,
   "metadata": {
    "hidden": true
   },
   "outputs": [
    {
     "data": {
      "image/png": "[encoded data removed]",
      "text/plain": [
       "<Figure size 1080x576 with 1 Axes>"
      ]
     },
     "metadata": {
      "needs_background": "light"
     },
     "output_type": "display_data"
    }
   ],
   "source": [
    "show_learning_curve_plot(final_model, X_train, y_train)"
   ]
  },
  {
   "cell_type": "code",
   "execution_count": 60,
   "metadata": {
    "hidden": true
   },
   "outputs": [
    {
     "data": {
      "image/png": "[encoded data removed]",
      "text/plain": [
       "<Figure size 1080x360 with 2 Axes>"
      ]
     },
     "metadata": {
      "needs_background": "light"
     },
     "output_type": "display_data"
    }
   ],
   "source": [
    "show_proba_calibration_plots(y_test_pred_probs[:, 1], y_test)"
   ]
  },
  {
   "cell_type": "code",
   "execution_count": 61,
   "metadata": {
    "hidden": true
   },
   "outputs": [
    {
     "data": {
      "image/png": "[encoded data removed]",
      "text/plain": [
       "<Figure size 1440x357.84 with 1 Axes>"
      ]
     },
     "metadata": {
      "needs_background": "light"
     },
     "output_type": "display_data"
    }
   ],
   "source": [
    "important_features_top = show_feature_importances(X_train.columns, final_model.feature_importances_, get_top=20)"
   ]
  },
  {
   "cell_type": "code",
   "execution_count": 62,
   "metadata": {
    "hidden": true
   },
   "outputs": [
    {
     "data": {
      "text/plain": [
       "['Years of Credit History',\n",
       " 'Current Loan Amount',\n",
       " 'Monthly Debt',\n",
       " 'Current Credit Balance',\n",
       " 'Maximum Open Credit',\n",
       " 'Annual Income',\n",
       " 'Credit Score',\n",
       " 'Number of Open Accounts',\n",
       " 'Months since last delinquent',\n",
       " 'Years in current job',\n",
       " 'Home Ownership',\n",
       " 'Term',\n",
       " 'Purpose',\n",
       " 'Bankruptcies']"
      ]
     },
     "execution_count": 62,
     "metadata": {},
     "output_type": "execute_result"
    }
   ],
   "source": [
    "important_features_top"
   ]
  },
  {
   "cell_type": "markdown",
   "metadata": {
    "heading_collapsed": true
   },
   "source": [
    "# Best param XGBOOST"
   ]
  },
  {
   "cell_type": "markdown",
   "metadata": {
    "hidden": true
   },
   "source": [
    "### model preparation"
   ]
  },
  {
   "cell_type": "code",
   "execution_count": 63,
   "metadata": {
    "hidden": true
   },
   "outputs": [
    {
     "data": {
      "text/html": [
       "<div>\n",
       "<style scoped>\n",
       "    .dataframe tbody tr th:only-of-type {\n",
       "        vertical-align: middle;\n",
       "    }\n",
       "\n",
       "    .dataframe tbody tr th {\n",
       "        vertical-align: top;\n",
       "    }\n",
       "\n",
       "    .dataframe thead th {\n",
       "        text-align: right;\n",
       "    }\n",
       "</style>\n",
       "<table border=\"1\" class=\"dataframe\">\n",
       "  <thead>\n",
       "    <tr style=\"text-align: right;\">\n",
       "      <th></th>\n",
       "      <th>ID</th>\n",
       "      <th>Home Ownership</th>\n",
       "      <th>Annual Income</th>\n",
       "      <th>Years in current job</th>\n",
       "      <th>Tax Liens</th>\n",
       "      <th>Number of Open Accounts</th>\n",
       "      <th>Years of Credit History</th>\n",
       "      <th>Maximum Open Credit</th>\n",
       "      <th>Number of Credit Problems</th>\n",
       "      <th>Months since last delinquent</th>\n",
       "      <th>Bankruptcies</th>\n",
       "      <th>Purpose</th>\n",
       "      <th>Term</th>\n",
       "      <th>Current Loan Amount</th>\n",
       "      <th>Current Credit Balance</th>\n",
       "      <th>Monthly Debt</th>\n",
       "      <th>Credit Score</th>\n",
       "      <th>Credit Default</th>\n",
       "    </tr>\n",
       "  </thead>\n",
       "  <tbody>\n",
       "    <tr>\n",
       "      <th>0</th>\n",
       "      <td>0</td>\n",
       "      <td>0</td>\n",
       "      <td>-1.150</td>\n",
       "      <td>0</td>\n",
       "      <td>0</td>\n",
       "      <td>0</td>\n",
       "      <td>1.125</td>\n",
       "      <td>0.057</td>\n",
       "      <td>0</td>\n",
       "      <td>-0.696</td>\n",
       "      <td>0</td>\n",
       "      <td>0</td>\n",
       "      <td>0</td>\n",
       "      <td>-0.000</td>\n",
       "      <td>-0.731</td>\n",
       "      <td>-0.878</td>\n",
       "      <td>-0.227</td>\n",
       "      <td>0.000</td>\n",
       "    </tr>\n",
       "    <tr>\n",
       "      <th>1</th>\n",
       "      <td>1</td>\n",
       "      <td>0</td>\n",
       "      <td>-0.443</td>\n",
       "      <td>0</td>\n",
       "      <td>0</td>\n",
       "      <td>1</td>\n",
       "      <td>-0.426</td>\n",
       "      <td>0.787</td>\n",
       "      <td>1</td>\n",
       "      <td>-0.696</td>\n",
       "      <td>1</td>\n",
       "      <td>0</td>\n",
       "      <td>1</td>\n",
       "      <td>-0.263</td>\n",
       "      <td>0.310</td>\n",
       "      <td>0.006</td>\n",
       "      <td>-0.235</td>\n",
       "      <td>1.000</td>\n",
       "    </tr>\n",
       "    <tr>\n",
       "      <th>2</th>\n",
       "      <td>2</td>\n",
       "      <td>1</td>\n",
       "      <td>-0.800</td>\n",
       "      <td>1</td>\n",
       "      <td>0</td>\n",
       "      <td>0</td>\n",
       "      <td>2.351</td>\n",
       "      <td>0.788</td>\n",
       "      <td>1</td>\n",
       "      <td>-0.696</td>\n",
       "      <td>1</td>\n",
       "      <td>0</td>\n",
       "      <td>0</td>\n",
       "      <td>-0.000</td>\n",
       "      <td>0.051</td>\n",
       "      <td>-0.393</td>\n",
       "      <td>-0.232</td>\n",
       "      <td>0.000</td>\n",
       "    </tr>\n",
       "    <tr>\n",
       "      <th>3</th>\n",
       "      <td>3</td>\n",
       "      <td>0</td>\n",
       "      <td>-0.730</td>\n",
       "      <td>2</td>\n",
       "      <td>0</td>\n",
       "      <td>2</td>\n",
       "      <td>0.589</td>\n",
       "      <td>-0.736</td>\n",
       "      <td>0</td>\n",
       "      <td>-0.696</td>\n",
       "      <td>0</td>\n",
       "      <td>0</td>\n",
       "      <td>0</td>\n",
       "      <td>-1.100</td>\n",
       "      <td>-0.586</td>\n",
       "      <td>-0.589</td>\n",
       "      <td>-0.264</td>\n",
       "      <td>0.000</td>\n",
       "    </tr>\n",
       "    <tr>\n",
       "      <th>4</th>\n",
       "      <td>4</td>\n",
       "      <td>2</td>\n",
       "      <td>-0.767</td>\n",
       "      <td>1</td>\n",
       "      <td>0</td>\n",
       "      <td>3</td>\n",
       "      <td>-0.665</td>\n",
       "      <td>-0.385</td>\n",
       "      <td>0</td>\n",
       "      <td>-0.696</td>\n",
       "      <td>1</td>\n",
       "      <td>0</td>\n",
       "      <td>0</td>\n",
       "      <td>-1.074</td>\n",
       "      <td>-0.593</td>\n",
       "      <td>-0.940</td>\n",
       "      <td>-0.247</td>\n",
       "      <td>0.000</td>\n",
       "    </tr>\n",
       "  </tbody>\n",
       "</table>\n",
       "</div>"
      ],
      "text/plain": [
       "   ID Home Ownership  Annual Income Years in current job Tax Liens  \\\n",
       "0   0              0         -1.150                    0         0   \n",
       "1   1              0         -0.443                    0         0   \n",
       "2   2              1         -0.800                    1         0   \n",
       "3   3              0         -0.730                    2         0   \n",
       "4   4              2         -0.767                    1         0   \n",
       "\n",
       "  Number of Open Accounts  Years of Credit History  Maximum Open Credit  \\\n",
       "0                       0                    1.125                0.057   \n",
       "1                       1                   -0.426                0.787   \n",
       "2                       0                    2.351                0.788   \n",
       "3                       2                    0.589               -0.736   \n",
       "4                       3                   -0.665               -0.385   \n",
       "\n",
       "  Number of Credit Problems  Months since last delinquent Bankruptcies  \\\n",
       "0                         0                        -0.696            0   \n",
       "1                         1                        -0.696            1   \n",
       "2                         1                        -0.696            1   \n",
       "3                         0                        -0.696            0   \n",
       "4                         0                        -0.696            1   \n",
       "\n",
       "  Purpose Term  Current Loan Amount  Current Credit Balance  Monthly Debt  \\\n",
       "0       0    0               -0.000                  -0.731        -0.878   \n",
       "1       0    1               -0.263                   0.310         0.006   \n",
       "2       0    0               -0.000                   0.051        -0.393   \n",
       "3       0    0               -1.100                  -0.586        -0.589   \n",
       "4       0    0               -1.074                  -0.593        -0.940   \n",
       "\n",
       "   Credit Score  Credit Default  \n",
       "0        -0.227           0.000  \n",
       "1        -0.235           1.000  \n",
       "2        -0.232           0.000  \n",
       "3        -0.264           0.000  \n",
       "4        -0.247           0.000  "
      ]
     },
     "execution_count": 63,
     "metadata": {},
     "output_type": "execute_result"
    }
   ],
   "source": [
    "df.head()"
   ]
  },
  {
   "cell_type": "code",
   "execution_count": 64,
   "metadata": {
    "hidden": true
   },
   "outputs": [
    {
     "data": {
      "text/html": [
       "<div>\n",
       "<style scoped>\n",
       "    .dataframe tbody tr th:only-of-type {\n",
       "        vertical-align: middle;\n",
       "    }\n",
       "\n",
       "    .dataframe tbody tr th {\n",
       "        vertical-align: top;\n",
       "    }\n",
       "\n",
       "    .dataframe thead th {\n",
       "        text-align: right;\n",
       "    }\n",
       "</style>\n",
       "<table border=\"1\" class=\"dataframe\">\n",
       "  <thead>\n",
       "    <tr style=\"text-align: right;\">\n",
       "      <th></th>\n",
       "      <th>name</th>\n",
       "      <th>values</th>\n",
       "      <th>nancounts</th>\n",
       "      <th>type</th>\n",
       "    </tr>\n",
       "  </thead>\n",
       "  <tbody>\n",
       "    <tr>\n",
       "      <th>0</th>\n",
       "      <td>ID</td>\n",
       "      <td>10000</td>\n",
       "      <td>0</td>\n",
       "      <td>int64</td>\n",
       "    </tr>\n",
       "    <tr>\n",
       "      <th>1</th>\n",
       "      <td>Home Ownership</td>\n",
       "      <td>4</td>\n",
       "      <td>0</td>\n",
       "      <td>category</td>\n",
       "    </tr>\n",
       "    <tr>\n",
       "      <th>2</th>\n",
       "      <td>Annual Income</td>\n",
       "      <td>7108</td>\n",
       "      <td>0</td>\n",
       "      <td>float64</td>\n",
       "    </tr>\n",
       "    <tr>\n",
       "      <th>3</th>\n",
       "      <td>Years in current job</td>\n",
       "      <td>11</td>\n",
       "      <td>0</td>\n",
       "      <td>category</td>\n",
       "    </tr>\n",
       "    <tr>\n",
       "      <th>4</th>\n",
       "      <td>Tax Liens</td>\n",
       "      <td>9</td>\n",
       "      <td>0</td>\n",
       "      <td>category</td>\n",
       "    </tr>\n",
       "    <tr>\n",
       "      <th>5</th>\n",
       "      <td>Number of Open Accounts</td>\n",
       "      <td>42</td>\n",
       "      <td>0</td>\n",
       "      <td>category</td>\n",
       "    </tr>\n",
       "    <tr>\n",
       "      <th>6</th>\n",
       "      <td>Years of Credit History</td>\n",
       "      <td>423</td>\n",
       "      <td>0</td>\n",
       "      <td>float64</td>\n",
       "    </tr>\n",
       "    <tr>\n",
       "      <th>7</th>\n",
       "      <td>Maximum Open Credit</td>\n",
       "      <td>9073</td>\n",
       "      <td>0</td>\n",
       "      <td>float64</td>\n",
       "    </tr>\n",
       "    <tr>\n",
       "      <th>8</th>\n",
       "      <td>Number of Credit Problems</td>\n",
       "      <td>9</td>\n",
       "      <td>0</td>\n",
       "      <td>category</td>\n",
       "    </tr>\n",
       "    <tr>\n",
       "      <th>9</th>\n",
       "      <td>Months since last delinquent</td>\n",
       "      <td>89</td>\n",
       "      <td>0</td>\n",
       "      <td>float64</td>\n",
       "    </tr>\n",
       "    <tr>\n",
       "      <th>10</th>\n",
       "      <td>Bankruptcies</td>\n",
       "      <td>6</td>\n",
       "      <td>0</td>\n",
       "      <td>category</td>\n",
       "    </tr>\n",
       "    <tr>\n",
       "      <th>11</th>\n",
       "      <td>Purpose</td>\n",
       "      <td>15</td>\n",
       "      <td>0</td>\n",
       "      <td>category</td>\n",
       "    </tr>\n",
       "    <tr>\n",
       "      <th>12</th>\n",
       "      <td>Term</td>\n",
       "      <td>2</td>\n",
       "      <td>0</td>\n",
       "      <td>category</td>\n",
       "    </tr>\n",
       "    <tr>\n",
       "      <th>13</th>\n",
       "      <td>Current Loan Amount</td>\n",
       "      <td>6786</td>\n",
       "      <td>0</td>\n",
       "      <td>float64</td>\n",
       "    </tr>\n",
       "    <tr>\n",
       "      <th>14</th>\n",
       "      <td>Current Credit Balance</td>\n",
       "      <td>8457</td>\n",
       "      <td>0</td>\n",
       "      <td>float64</td>\n",
       "    </tr>\n",
       "    <tr>\n",
       "      <th>15</th>\n",
       "      <td>Monthly Debt</td>\n",
       "      <td>8677</td>\n",
       "      <td>0</td>\n",
       "      <td>float64</td>\n",
       "    </tr>\n",
       "    <tr>\n",
       "      <th>16</th>\n",
       "      <td>Credit Score</td>\n",
       "      <td>278</td>\n",
       "      <td>0</td>\n",
       "      <td>float64</td>\n",
       "    </tr>\n",
       "    <tr>\n",
       "      <th>17</th>\n",
       "      <td>Credit Default</td>\n",
       "      <td>2</td>\n",
       "      <td>2500</td>\n",
       "      <td>float64</td>\n",
       "    </tr>\n",
       "  </tbody>\n",
       "</table>\n",
       "</div>"
      ],
      "text/plain": [
       "                            name values nancounts      type\n",
       "0                             ID  10000         0     int64\n",
       "1                 Home Ownership      4         0  category\n",
       "2                  Annual Income   7108         0   float64\n",
       "3           Years in current job     11         0  category\n",
       "4                      Tax Liens      9         0  category\n",
       "5        Number of Open Accounts     42         0  category\n",
       "6        Years of Credit History    423         0   float64\n",
       "7            Maximum Open Credit   9073         0   float64\n",
       "8      Number of Credit Problems      9         0  category\n",
       "9   Months since last delinquent     89         0   float64\n",
       "10                  Bankruptcies      6         0  category\n",
       "11                       Purpose     15         0  category\n",
       "12                          Term      2         0  category\n",
       "13           Current Loan Amount   6786         0   float64\n",
       "14        Current Credit Balance   8457         0   float64\n",
       "15                  Monthly Debt   8677         0   float64\n",
       "16                  Credit Score    278         0   float64\n",
       "17                Credit Default      2      2500   float64"
      ]
     },
     "execution_count": 64,
     "metadata": {},
     "output_type": "execute_result"
    }
   ],
   "source": [
    "col_info(df)"
   ]
  },
  {
   "cell_type": "code",
   "execution_count": 65,
   "metadata": {
    "hidden": true
   },
   "outputs": [],
   "source": [
    "df_XB = df.copy()"
   ]
  },
  {
   "cell_type": "code",
   "execution_count": 66,
   "metadata": {
    "hidden": true
   },
   "outputs": [],
   "source": [
    "for cat_colname in df_XB.select_dtypes(include='category').columns:\n",
    "            df_XB = pd.concat([df_XB, pd.get_dummies(df_XB[cat_colname], prefix=cat_colname).\n",
    "                            astype('int64')],axis=1)\n",
    "            df_XB = df_XB.drop(cat_colname,axis = 'columns')"
   ]
  },
  {
   "cell_type": "code",
   "execution_count": 67,
   "metadata": {
    "hidden": true
   },
   "outputs": [],
   "source": [
    "train_XG = df_XB[:7500]\n",
    "test_XG = df_XB[7500:]"
   ]
  },
  {
   "cell_type": "code",
   "execution_count": 68,
   "metadata": {
    "hidden": true
   },
   "outputs": [],
   "source": [
    "balancedXG =  balance_df_by_target(train_XG, TARGET_NAME)"
   ]
  },
  {
   "cell_type": "code",
   "execution_count": 69,
   "metadata": {
    "hidden": true
   },
   "outputs": [],
   "source": [
    "balanced_targetXG = balancedXG[TARGET_NAME]\n",
    "balancedXG = balancedXG.drop(TARGET_NAME,axis = 'columns')"
   ]
  },
  {
   "cell_type": "code",
   "execution_count": 70,
   "metadata": {
    "hidden": true
   },
   "outputs": [],
   "source": [
    "modelXG = xgb.XGBClassifier(random_state=21, silent=False) "
   ]
  },
  {
   "cell_type": "code",
   "execution_count": 71,
   "metadata": {
    "hidden": true
   },
   "outputs": [],
   "source": [
    "params = {'n_estimators': [285,290,395],\n",
    "          'max_depth': [11,12,13]}"
   ]
  },
  {
   "cell_type": "code",
   "execution_count": 72,
   "metadata": {
    "hidden": true
   },
   "outputs": [],
   "source": [
    "cv = KFold(n_splits=4, random_state=21, shuffle=True)"
   ]
  },
  {
   "cell_type": "code",
   "execution_count": 73,
   "metadata": {
    "hidden": true
   },
   "outputs": [
    {
     "data": {
      "text/plain": [
       "RandomizedSearchCV(cv=KFold(n_splits=4, random_state=21, shuffle=True),\n",
       "          error_score='raise-deprecating',\n",
       "          estimator=XGBClassifier(base_score=0.5, booster='gbtree', colsample_bylevel=1,\n",
       "       colsample_bytree=1, gamma=0, learning_rate=0.1, max_delta_step=0,\n",
       "       max_depth=3, min_child_weight=1, missing=None, n_estimators=100,\n",
       "       n_jobs=1, nthread=None, objective='binary:logistic',\n",
       "       random_state=21, reg_alpha=0, reg_lambda=1, scale_pos_weight=1,\n",
       "       seed=None, silent=False, subsample=1),\n",
       "          fit_params=None, iid='warn', n_iter=10, n_jobs=-1,\n",
       "          param_distributions={'n_estimators': [285, 290, 395], 'max_depth': [11, 12, 13]},\n",
       "          pre_dispatch='2*n_jobs', random_state=None, refit=True,\n",
       "          return_train_score='warn', scoring='f1', verbose=0)"
      ]
     },
     "execution_count": 73,
     "metadata": {},
     "output_type": "execute_result"
    }
   ],
   "source": [
    "rs = RandomizedSearchCV(modelXG, params, scoring='f1', cv=cv, n_jobs=-1)\n",
    "rs.fit(balancedXG, balanced_targetXG)"
   ]
  },
  {
   "cell_type": "code",
   "execution_count": 74,
   "metadata": {
    "hidden": true
   },
   "outputs": [
    {
     "data": {
      "text/plain": [
       "0.8440780059820125"
      ]
     },
     "execution_count": 74,
     "metadata": {},
     "output_type": "execute_result"
    }
   ],
   "source": [
    "rs.best_score_"
   ]
  },
  {
   "cell_type": "code",
   "execution_count": 75,
   "metadata": {
    "hidden": true
   },
   "outputs": [
    {
     "data": {
      "text/plain": [
       "{'n_estimators': 285, 'max_depth': 13}"
      ]
     },
     "execution_count": 75,
     "metadata": {},
     "output_type": "execute_result"
    }
   ],
   "source": [
    "rs.best_params_"
   ]
  },
  {
   "cell_type": "code",
   "execution_count": 76,
   "metadata": {
    "hidden": true
   },
   "outputs": [
    {
     "data": {
      "text/plain": [
       "0.8517400260015305"
      ]
     },
     "execution_count": 76,
     "metadata": {},
     "output_type": "execute_result"
    }
   ],
   "source": [
    "0.8517400260015305"
   ]
  },
  {
   "cell_type": "markdown",
   "metadata": {
    "hidden": true
   },
   "source": [
    "### tuning"
   ]
  },
  {
   "cell_type": "code",
   "execution_count": 77,
   "metadata": {
    "hidden": true
   },
   "outputs": [],
   "source": [
    "X_trainXG, X_testXG, y_trainXG, y_testXG = train_test_split(balancedXG, balanced_targetXG,\n",
    "                                                    shuffle=True, test_size=0.25, random_state=21)"
   ]
  },
  {
   "cell_type": "code",
   "execution_count": 78,
   "metadata": {
    "hidden": true
   },
   "outputs": [],
   "source": [
    "# model_xgb = xgb.XGBClassifier(random_state=21, \n",
    "#                              n_estimators = 300,\n",
    "#                               max_depth = 12)"
   ]
  },
  {
   "cell_type": "code",
   "execution_count": 79,
   "metadata": {
    "hidden": true
   },
   "outputs": [
    {
     "name": "stdout",
     "output_type": "stream",
     "text": [
      "TRAIN\n",
      "\n",
      "              precision    recall  f1-score   support\n",
      "\n",
      "         0.0       1.00      1.00      1.00      4046\n",
      "         1.0       1.00      1.00      1.00      3163\n",
      "\n",
      "   micro avg       1.00      1.00      1.00      7209\n",
      "   macro avg       1.00      1.00      1.00      7209\n",
      "weighted avg       1.00      1.00      1.00      7209\n",
      "\n",
      "TEST\n",
      "\n",
      "              precision    recall  f1-score   support\n",
      "\n",
      "         0.0       0.87      0.87      0.87      1341\n",
      "         1.0       0.84      0.83      0.83      1063\n",
      "\n",
      "   micro avg       0.85      0.85      0.85      2404\n",
      "   macro avg       0.85      0.85      0.85      2404\n",
      "weighted avg       0.85      0.85      0.85      2404\n",
      "\n",
      "CONFUSION MATRIX\n",
      "\n",
      "col_0           0.000  1.000\n",
      "Credit Default              \n",
      "0.000            1167    174\n",
      "1.000             178    885\n"
     ]
    }
   ],
   "source": [
    "final_modelXG = xgb.XGBClassifier(random_state=21, \n",
    "                              n_estimators = 395,\n",
    "                              max_depth = 13)\n",
    "final_modelXG.fit(X_trainXG, y_trainXG)\n",
    "\n",
    "y_train_predXG = final_modelXG.predict(X_trainXG)\n",
    "y_test_predXG = final_modelXG.predict(X_testXG)\n",
    "y_test_pred_probsXG = final_modelXG.predict_proba(X_testXG)\n",
    "\n",
    "get_classification_report(y_trainXG, y_train_predXG, y_testXG, y_test_predXG)"
   ]
  },
  {
   "cell_type": "code",
   "execution_count": 80,
   "metadata": {
    "hidden": true
   },
   "outputs": [
    {
     "data": {
      "image/png": "[encoded data removed]",
      "text/plain": [
       "<Figure size 1080x576 with 1 Axes>"
      ]
     },
     "metadata": {
      "needs_background": "light"
     },
     "output_type": "display_data"
    }
   ],
   "source": [
    "show_learning_curve_plot(final_modelXG, X_trainXG, y_trainXG)"
   ]
  },
  {
   "cell_type": "code",
   "execution_count": 81,
   "metadata": {
    "hidden": true
   },
   "outputs": [
    {
     "data": {
      "image/png": "[encoded data removed]",
      "text/plain": [
       "<Figure size 1080x360 with 2 Axes>"
      ]
     },
     "metadata": {
      "needs_background": "light"
     },
     "output_type": "display_data"
    }
   ],
   "source": [
    "show_proba_calibration_plots(y_test_pred_probsXG[:, 1], y_testXG)"
   ]
  },
  {
   "cell_type": "markdown",
   "metadata": {
    "heading_collapsed": true
   },
   "source": [
    "# Final predict"
   ]
  },
  {
   "cell_type": "code",
   "execution_count": 82,
   "metadata": {
    "hidden": true
   },
   "outputs": [],
   "source": [
    "final_modelXGBoost = xgb.XGBClassifier(random_state=21, \n",
    "                              n_estimators = 395,\n",
    "                              max_depth = 13)"
   ]
  },
  {
   "cell_type": "code",
   "execution_count": 83,
   "metadata": {
    "hidden": true
   },
   "outputs": [
    {
     "data": {
      "image/png": "[encoded data removed]",
      "text/plain": [
       "<Figure size 1080x576 with 1 Axes>"
      ]
     },
     "metadata": {
      "needs_background": "light"
     },
     "output_type": "display_data"
    }
   ],
   "source": [
    "show_learning_curve_plot(final_modelXGBoost, balancedXG, balanced_targetXG)"
   ]
  },
  {
   "cell_type": "code",
   "execution_count": 84,
   "metadata": {
    "hidden": true
   },
   "outputs": [
    {
     "data": {
      "text/plain": [
       "XGBClassifier(base_score=0.5, booster='gbtree', colsample_bylevel=1,\n",
       "       colsample_bytree=1, gamma=0, learning_rate=0.1, max_delta_step=0,\n",
       "       max_depth=13, min_child_weight=1, missing=None, n_estimators=395,\n",
       "       n_jobs=1, nthread=None, objective='binary:logistic',\n",
       "       random_state=21, reg_alpha=0, reg_lambda=1, scale_pos_weight=1,\n",
       "       seed=None, silent=True, subsample=1)"
      ]
     },
     "execution_count": 84,
     "metadata": {},
     "output_type": "execute_result"
    }
   ],
   "source": [
    "final_modelXGBoost.fit(balancedXG, balanced_targetXG)"
   ]
  },
  {
   "cell_type": "code",
   "execution_count": 85,
   "metadata": {
    "hidden": true
   },
   "outputs": [],
   "source": [
    "test[TARGET_NAME]  = final_modelXGBoost.predict(test_XG.drop(TARGET_NAME,axis = 'columns'))"
   ]
  },
  {
   "cell_type": "code",
   "execution_count": 86,
   "metadata": {
    "hidden": true
   },
   "outputs": [
    {
     "data": {
      "text/plain": [
       "0.000    2054\n",
       "1.000     446\n",
       "Name: Credit Default, dtype: int64"
      ]
     },
     "execution_count": 86,
     "metadata": {},
     "output_type": "execute_result"
    }
   ],
   "source": [
    "test[TARGET_NAME].value_counts()"
   ]
  },
  {
   "cell_type": "code",
   "execution_count": 87,
   "metadata": {
    "hidden": true
   },
   "outputs": [],
   "source": [
    "test[TARGET_NAME].to_csv(\"SCuznetov_predictions.csv\")"
   ]
  }
 ],
 "metadata": {
  "kernelspec": {
   "display_name": "Python 3",
   "language": "python",
   "name": "python3"
  },
  "language_info": {
   "codemirror_mode": {
    "name": "ipython",
    "version": 3
   },
   "file_extension": ".py",
   "mimetype": "text/x-python",
   "name": "python",
   "nbconvert_exporter": "python",
   "pygments_lexer": "ipython3",
   "version": "3.7.1"
  }
 },
 "nbformat": 4,
 "nbformat_minor": 2
}
